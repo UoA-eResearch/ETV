{
 "cells": [
  {
   "cell_type": "code",
   "execution_count": 1,
   "metadata": {},
   "outputs": [],
   "source": [
    "import requests_html\n",
    "import re\n",
    "from tqdm.auto import tqdm\n",
    "import pandas as pd\n",
    "tqdm.pandas()\n",
    "import io\n",
    "from pprint import pprint"
   ]
  },
  {
   "cell_type": "code",
   "execution_count": 2,
   "metadata": {},
   "outputs": [],
   "source": [
    "session = requests_html.HTMLSession()\n",
    "with open(\"ci_session.cookie\") as f:\n",
    "  ci_session_cookie = f.read().strip()\n",
    "_ = session.cookies.set(\"ci_session\", ci_session_cookie)"
   ]
  },
  {
   "cell_type": "code",
   "execution_count": 3,
   "metadata": {},
   "outputs": [
    {
     "data": {
      "application/vnd.jupyter.widget-view+json": {
       "model_id": "cf5766d16eee4c4683e242838fee8dc2",
       "version_major": 2,
       "version_minor": 0
      },
      "text/plain": [
       "  0%|          | 0/25 [00:00<?, ?it/s]"
      ]
     },
     "metadata": {},
     "output_type": "display_data"
    },
    {
     "data": {
      "text/plain": [
       "516"
      ]
     },
     "execution_count": 3,
     "metadata": {},
     "output_type": "execute_result"
    }
   ],
   "source": [
    "results = set()\n",
    "for page in tqdm(range(0, 516, 21)):\n",
    "  resp = session.get(f\"https://uoa.etv.org.nz/tv/vod_search?search=country+calendar&title_only=&per_page={page}\")\n",
    "  for link in resp.html.links:\n",
    "    match = re.search(r\"/tv/vod/view/(\\d+)\", link)\n",
    "    if match:\n",
    "      results.add(int(match.group(1)))\n",
    "len(results)"
   ]
  },
  {
   "cell_type": "code",
   "execution_count": 4,
   "metadata": {},
   "outputs": [
    {
     "data": {
      "application/vnd.jupyter.widget-view+json": {
       "model_id": "367853849f3e46dbb6da673ddabf4824",
       "version_major": 2,
       "version_minor": 0
      },
      "text/plain": [
       "  0%|          | 0/516 [00:00<?, ?it/s]"
      ]
     },
     "metadata": {},
     "output_type": "display_data"
    }
   ],
   "source": [
    "all_meta = []\n",
    "for id in tqdm(results):\n",
    "  html = io.StringIO(session.get(f\"https://uoa.etv.org.nz//tv/vod/download_metadata/{id}\").text)\n",
    "  meta = pd.read_html(html)[0]\n",
    "  meta[\"id\"] = id\n",
    "  all_meta.append(meta)\n",
    "all_meta = pd.concat(all_meta)"
   ]
  },
  {
   "cell_type": "code",
   "execution_count": 6,
   "metadata": {},
   "outputs": [
    {
     "data": {
      "application/vnd.jupyter.widget-view+json": {
       "model_id": "ead3daef5764460db377c27f6223bad3",
       "version_major": 2,
       "version_minor": 0
      },
      "text/plain": [
       "  0%|          | 0/516 [00:00<?, ?it/s]"
      ]
     },
     "metadata": {},
     "output_type": "display_data"
    }
   ],
   "source": [
    "def get_link(id):\n",
    "  resp = session.head(f\"https://uoa.etv.org.nz/tv/vod/download_mp4/{id}\")\n",
    "  return resp.headers[\"Location\"]\n",
    "\n",
    "all_meta[\"link\"] = all_meta[\"id\"].progress_apply(get_link)"
   ]
  },
  {
   "cell_type": "code",
   "execution_count": 18,
   "metadata": {},
   "outputs": [
    {
     "data": {
      "application/vnd.jupyter.widget-view+json": {
       "model_id": "211dcdd523f84c51a5811d5d8aa2ee9e",
       "version_major": 2,
       "version_minor": 0
      },
      "text/plain": [
       "  0%|          | 0/516 [00:00<?, ?it/s]"
      ]
     },
     "metadata": {},
     "output_type": "display_data"
    }
   ],
   "source": [
    "def get_size(link):\n",
    "  return session.head(link).headers[\"Content-Length\"]\n",
    "\n",
    "all_meta[\"size_bytes\"] = all_meta[\"link\"].progress_apply(get_size)"
   ]
  },
  {
   "cell_type": "code",
   "execution_count": 19,
   "metadata": {},
   "outputs": [
    {
     "data": {
      "text/html": [
       "<div>\n",
       "<style scoped>\n",
       "    .dataframe tbody tr th:only-of-type {\n",
       "        vertical-align: middle;\n",
       "    }\n",
       "\n",
       "    .dataframe tbody tr th {\n",
       "        vertical-align: top;\n",
       "    }\n",
       "\n",
       "    .dataframe thead th {\n",
       "        text-align: right;\n",
       "    }\n",
       "</style>\n",
       "<table border=\"1\" class=\"dataframe\">\n",
       "  <thead>\n",
       "    <tr style=\"text-align: right;\">\n",
       "      <th></th>\n",
       "      <th>File Name</th>\n",
       "      <th>Name</th>\n",
       "      <th>Description</th>\n",
       "      <th>Duration</th>\n",
       "      <th>Type</th>\n",
       "      <th>Subject</th>\n",
       "      <th>Age Level</th>\n",
       "      <th>Channel</th>\n",
       "      <th>Recording Date</th>\n",
       "      <th>Recording Time</th>\n",
       "      <th>id</th>\n",
       "      <th>link</th>\n",
       "      <th>size_bytes</th>\n",
       "    </tr>\n",
       "  </thead>\n",
       "  <tbody>\n",
       "    <tr>\n",
       "      <th>0</th>\n",
       "      <td>etv/country_calendar_-_air_new_zealand_uniform...</td>\n",
       "      <td>country calendar - air new zealand uniforms 23...</td>\n",
       "      <td>from www.throng.co.nz : this episode of nation...</td>\n",
       "      <td>00:21:33</td>\n",
       "      <td>Library</td>\n",
       "      <td>NaN</td>\n",
       "      <td>G</td>\n",
       "      <td>lostplusfound</td>\n",
       "      <td>0000-00-00</td>\n",
       "      <td>00:00:00</td>\n",
       "      <td>61580</td>\n",
       "      <td>https://cdn.etv.org.nz/etv/country_calendar_-_...</td>\n",
       "      <td>145371146</td>\n",
       "    </tr>\n",
       "    <tr>\n",
       "      <th>0</th>\n",
       "      <td>etv/TV_One_1900_21022009_20090221193153256qtst...</td>\n",
       "      <td>Country Calendar - Series 2009 - Episode 1</td>\n",
       "      <td>'Lyn of Taranaki' Country Calendar starts its ...</td>\n",
       "      <td>00:29:57</td>\n",
       "      <td>Documentary</td>\n",
       "      <td>Agriculture &amp; Horticulture, Business, Ecology ...</td>\n",
       "      <td>Unrated</td>\n",
       "      <td>TV 1</td>\n",
       "      <td>2009-02-21</td>\n",
       "      <td>19:00:00</td>\n",
       "      <td>12564</td>\n",
       "      <td>https://cdn.etv.org.nz/etv/TV_One_1900_2102200...</td>\n",
       "      <td>49973516</td>\n",
       "    </tr>\n",
       "    <tr>\n",
       "      <th>0</th>\n",
       "      <td>etv/TV_One_1900_28022009_20090228193154256qtst...</td>\n",
       "      <td>Country Calendar - Series 2009 - Episode 2</td>\n",
       "      <td>'Shared Fruit' New Zealand and Chinese scienti...</td>\n",
       "      <td>00:29:56</td>\n",
       "      <td>Documentary</td>\n",
       "      <td>Agriculture &amp; Horticulture, Asian Studies, Bus...</td>\n",
       "      <td>Unrated</td>\n",
       "      <td>TV 1</td>\n",
       "      <td>2009-02-28</td>\n",
       "      <td>19:00:00</td>\n",
       "      <td>12697</td>\n",
       "      <td>https://cdn.etv.org.nz/etv/TV_One_1900_2802200...</td>\n",
       "      <td>52854708</td>\n",
       "    </tr>\n",
       "    <tr>\n",
       "      <th>0</th>\n",
       "      <td>etv/TV_One_1900_07032009_20090307193229256qtst...</td>\n",
       "      <td>Country Calendar - Series 2009 - Episode 3</td>\n",
       "      <td>'Grassroots Leader' Bruce Rollinson is a late-...</td>\n",
       "      <td>00:29:56</td>\n",
       "      <td>Documentary</td>\n",
       "      <td>Agriculture &amp; Horticulture, Business, Economic...</td>\n",
       "      <td>Unrated</td>\n",
       "      <td>TV 1</td>\n",
       "      <td>2009-03-07</td>\n",
       "      <td>19:00:00</td>\n",
       "      <td>12812</td>\n",
       "      <td>https://cdn.etv.org.nz/etv/TV_One_1900_0703200...</td>\n",
       "      <td>51865839</td>\n",
       "    </tr>\n",
       "    <tr>\n",
       "      <th>0</th>\n",
       "      <td>etv/TV_One_1900_14032009_20090314193119768qtst...</td>\n",
       "      <td>Country Calendar - Series 2009 - Episode 4</td>\n",
       "      <td>'High-flying Fur' What's as fine as merino woo...</td>\n",
       "      <td>00:29:56</td>\n",
       "      <td>Documentary</td>\n",
       "      <td>Agriculture &amp; Horticulture, Biology, Business,...</td>\n",
       "      <td>Unrated</td>\n",
       "      <td>TV 1</td>\n",
       "      <td>2009-03-14</td>\n",
       "      <td>19:00:00</td>\n",
       "      <td>12939</td>\n",
       "      <td>https://cdn.etv.org.nz/etv/TV_One_1900_1403200...</td>\n",
       "      <td>154209978</td>\n",
       "    </tr>\n",
       "    <tr>\n",
       "      <th>...</th>\n",
       "      <td>...</td>\n",
       "      <td>...</td>\n",
       "      <td>...</td>\n",
       "      <td>...</td>\n",
       "      <td>...</td>\n",
       "      <td>...</td>\n",
       "      <td>...</td>\n",
       "      <td>...</td>\n",
       "      <td>...</td>\n",
       "      <td>...</td>\n",
       "      <td>...</td>\n",
       "      <td>...</td>\n",
       "      <td>...</td>\n",
       "    </tr>\n",
       "    <tr>\n",
       "      <th>0</th>\n",
       "      <td>etv/hyundai_country_cale_tv1_20240414_1900</td>\n",
       "      <td>Hyundai Country Calendar - Season 2024 - 14 Ap...</td>\n",
       "      <td>NaN</td>\n",
       "      <td>00:30:33</td>\n",
       "      <td>Documentary, Reality</td>\n",
       "      <td>Agriculture &amp; Horticulture, Business, Careers,...</td>\n",
       "      <td>G</td>\n",
       "      <td>TV 1</td>\n",
       "      <td>2024-04-14</td>\n",
       "      <td>19:00:00</td>\n",
       "      <td>518923</td>\n",
       "      <td>https://cdn.etv.org.nz/etv/hyundai_country_cal...</td>\n",
       "      <td>353531481</td>\n",
       "    </tr>\n",
       "    <tr>\n",
       "      <th>0</th>\n",
       "      <td>etv/hyundai_country_cale_tv1_20240421_1900</td>\n",
       "      <td>Hyundai Country Calendar - Season 2024 - 21 Ap...</td>\n",
       "      <td>NaN</td>\n",
       "      <td>00:30:21</td>\n",
       "      <td>Documentary, Reality</td>\n",
       "      <td>Agriculture &amp; Horticulture, Business, Careers,...</td>\n",
       "      <td>G</td>\n",
       "      <td>TV 1</td>\n",
       "      <td>2024-04-21</td>\n",
       "      <td>19:00:00</td>\n",
       "      <td>518922</td>\n",
       "      <td>https://cdn.etv.org.nz/etv/hyundai_country_cal...</td>\n",
       "      <td>344594242</td>\n",
       "    </tr>\n",
       "    <tr>\n",
       "      <th>0</th>\n",
       "      <td>etv/hyundai_country_cale_tv1_20240428_1900</td>\n",
       "      <td>Hyundai Country Calendar - Season 2024 - 28 Ap...</td>\n",
       "      <td>NaN</td>\n",
       "      <td>00:30:10</td>\n",
       "      <td>Documentary, Reality</td>\n",
       "      <td>Agriculture &amp; Horticulture, Business, Careers,...</td>\n",
       "      <td>G</td>\n",
       "      <td>TV 1</td>\n",
       "      <td>2024-04-28</td>\n",
       "      <td>19:00:00</td>\n",
       "      <td>518972</td>\n",
       "      <td>https://cdn.etv.org.nz/etv/hyundai_country_cal...</td>\n",
       "      <td>338647527</td>\n",
       "    </tr>\n",
       "    <tr>\n",
       "      <th>0</th>\n",
       "      <td>etv/hyundai_country_cale_tv1_20240505_1900</td>\n",
       "      <td>Hyundai Country Calendar - Season 2024 - 5 May...</td>\n",
       "      <td>NaN</td>\n",
       "      <td>00:30:45</td>\n",
       "      <td>Documentary, Reality</td>\n",
       "      <td>Agriculture &amp; Horticulture, Business, Careers,...</td>\n",
       "      <td>G</td>\n",
       "      <td>TV 1</td>\n",
       "      <td>2024-05-05</td>\n",
       "      <td>19:00:00</td>\n",
       "      <td>519110</td>\n",
       "      <td>https://cdn.etv.org.nz/etv/hyundai_country_cal...</td>\n",
       "      <td>352367660</td>\n",
       "    </tr>\n",
       "    <tr>\n",
       "      <th>0</th>\n",
       "      <td>etv/hyundai_country_cale_tv1_20240512_1900</td>\n",
       "      <td>Hyundai Country Calendar - Season 2024 - 12 Ma...</td>\n",
       "      <td>NaN</td>\n",
       "      <td>00:30:53</td>\n",
       "      <td>Documentary, Reality</td>\n",
       "      <td>Agriculture &amp; Horticulture, Business, Careers,...</td>\n",
       "      <td>G</td>\n",
       "      <td>TV 1</td>\n",
       "      <td>2024-05-12</td>\n",
       "      <td>19:00:00</td>\n",
       "      <td>519287</td>\n",
       "      <td>https://cdn.etv.org.nz/etv/hyundai_country_cal...</td>\n",
       "      <td>348651686</td>\n",
       "    </tr>\n",
       "  </tbody>\n",
       "</table>\n",
       "<p>516 rows × 13 columns</p>\n",
       "</div>"
      ],
      "text/plain": [
       "                                            File Name  \\\n",
       "0   etv/country_calendar_-_air_new_zealand_uniform...   \n",
       "0   etv/TV_One_1900_21022009_20090221193153256qtst...   \n",
       "0   etv/TV_One_1900_28022009_20090228193154256qtst...   \n",
       "0   etv/TV_One_1900_07032009_20090307193229256qtst...   \n",
       "0   etv/TV_One_1900_14032009_20090314193119768qtst...   \n",
       "..                                                ...   \n",
       "0          etv/hyundai_country_cale_tv1_20240414_1900   \n",
       "0          etv/hyundai_country_cale_tv1_20240421_1900   \n",
       "0          etv/hyundai_country_cale_tv1_20240428_1900   \n",
       "0          etv/hyundai_country_cale_tv1_20240505_1900   \n",
       "0          etv/hyundai_country_cale_tv1_20240512_1900   \n",
       "\n",
       "                                                 Name  \\\n",
       "0   country calendar - air new zealand uniforms 23...   \n",
       "0          Country Calendar - Series 2009 - Episode 1   \n",
       "0          Country Calendar - Series 2009 - Episode 2   \n",
       "0          Country Calendar - Series 2009 - Episode 3   \n",
       "0          Country Calendar - Series 2009 - Episode 4   \n",
       "..                                                ...   \n",
       "0   Hyundai Country Calendar - Season 2024 - 14 Ap...   \n",
       "0   Hyundai Country Calendar - Season 2024 - 21 Ap...   \n",
       "0   Hyundai Country Calendar - Season 2024 - 28 Ap...   \n",
       "0   Hyundai Country Calendar - Season 2024 - 5 May...   \n",
       "0   Hyundai Country Calendar - Season 2024 - 12 Ma...   \n",
       "\n",
       "                                          Description  Duration  \\\n",
       "0   from www.throng.co.nz : this episode of nation...  00:21:33   \n",
       "0   'Lyn of Taranaki' Country Calendar starts its ...  00:29:57   \n",
       "0   'Shared Fruit' New Zealand and Chinese scienti...  00:29:56   \n",
       "0   'Grassroots Leader' Bruce Rollinson is a late-...  00:29:56   \n",
       "0   'High-flying Fur' What's as fine as merino woo...  00:29:56   \n",
       "..                                                ...       ...   \n",
       "0                                                 NaN  00:30:33   \n",
       "0                                                 NaN  00:30:21   \n",
       "0                                                 NaN  00:30:10   \n",
       "0                                                 NaN  00:30:45   \n",
       "0                                                 NaN  00:30:53   \n",
       "\n",
       "                    Type                                            Subject  \\\n",
       "0                Library                                                NaN   \n",
       "0            Documentary  Agriculture & Horticulture, Business, Ecology ...   \n",
       "0            Documentary  Agriculture & Horticulture, Asian Studies, Bus...   \n",
       "0            Documentary  Agriculture & Horticulture, Business, Economic...   \n",
       "0            Documentary  Agriculture & Horticulture, Biology, Business,...   \n",
       "..                   ...                                                ...   \n",
       "0   Documentary, Reality  Agriculture & Horticulture, Business, Careers,...   \n",
       "0   Documentary, Reality  Agriculture & Horticulture, Business, Careers,...   \n",
       "0   Documentary, Reality  Agriculture & Horticulture, Business, Careers,...   \n",
       "0   Documentary, Reality  Agriculture & Horticulture, Business, Careers,...   \n",
       "0   Documentary, Reality  Agriculture & Horticulture, Business, Careers,...   \n",
       "\n",
       "   Age Level        Channel Recording Date Recording Time      id  \\\n",
       "0          G  lostplusfound     0000-00-00       00:00:00   61580   \n",
       "0    Unrated           TV 1     2009-02-21       19:00:00   12564   \n",
       "0    Unrated           TV 1     2009-02-28       19:00:00   12697   \n",
       "0    Unrated           TV 1     2009-03-07       19:00:00   12812   \n",
       "0    Unrated           TV 1     2009-03-14       19:00:00   12939   \n",
       "..       ...            ...            ...            ...     ...   \n",
       "0          G           TV 1     2024-04-14       19:00:00  518923   \n",
       "0          G           TV 1     2024-04-21       19:00:00  518922   \n",
       "0          G           TV 1     2024-04-28       19:00:00  518972   \n",
       "0          G           TV 1     2024-05-05       19:00:00  519110   \n",
       "0          G           TV 1     2024-05-12       19:00:00  519287   \n",
       "\n",
       "                                                 link size_bytes  \n",
       "0   https://cdn.etv.org.nz/etv/country_calendar_-_...  145371146  \n",
       "0   https://cdn.etv.org.nz/etv/TV_One_1900_2102200...   49973516  \n",
       "0   https://cdn.etv.org.nz/etv/TV_One_1900_2802200...   52854708  \n",
       "0   https://cdn.etv.org.nz/etv/TV_One_1900_0703200...   51865839  \n",
       "0   https://cdn.etv.org.nz/etv/TV_One_1900_1403200...  154209978  \n",
       "..                                                ...        ...  \n",
       "0   https://cdn.etv.org.nz/etv/hyundai_country_cal...  353531481  \n",
       "0   https://cdn.etv.org.nz/etv/hyundai_country_cal...  344594242  \n",
       "0   https://cdn.etv.org.nz/etv/hyundai_country_cal...  338647527  \n",
       "0   https://cdn.etv.org.nz/etv/hyundai_country_cal...  352367660  \n",
       "0   https://cdn.etv.org.nz/etv/hyundai_country_cal...  348651686  \n",
       "\n",
       "[516 rows x 13 columns]"
      ]
     },
     "execution_count": 19,
     "metadata": {},
     "output_type": "execute_result"
    }
   ],
   "source": [
    "all_meta.sort_values(\"Recording Date\")"
   ]
  },
  {
   "cell_type": "code",
   "execution_count": 20,
   "metadata": {},
   "outputs": [
    {
     "data": {
      "text/plain": [
       "Timedelta('10 days 23:46:30')"
      ]
     },
     "execution_count": 20,
     "metadata": {},
     "output_type": "execute_result"
    }
   ],
   "source": [
    "pd.to_timedelta(all_meta.Duration).sum()"
   ]
  },
  {
   "cell_type": "code",
   "execution_count": 25,
   "metadata": {},
   "outputs": [
    {
     "data": {
      "text/plain": [
       "153.993704597"
      ]
     },
     "execution_count": 25,
     "metadata": {},
     "output_type": "execute_result"
    }
   ],
   "source": [
    "# GB\n",
    "all_meta.size_bytes.astype(int).sum() / 1e9"
   ]
  },
  {
   "cell_type": "code",
   "execution_count": 26,
   "metadata": {},
   "outputs": [],
   "source": [
    "all_meta.sort_values(\"Recording Date\").to_csv(\"country_calendar_metadata.csv\", index=False)"
   ]
  }
 ],
 "metadata": {
  "kernelspec": {
   "display_name": "Python 3",
   "language": "python",
   "name": "python3"
  },
  "language_info": {
   "codemirror_mode": {
    "name": "ipython",
    "version": 3
   },
   "file_extension": ".py",
   "mimetype": "text/x-python",
   "name": "python",
   "nbconvert_exporter": "python",
   "pygments_lexer": "ipython3",
   "version": "3.10.12"
  }
 },
 "nbformat": 4,
 "nbformat_minor": 2
}
