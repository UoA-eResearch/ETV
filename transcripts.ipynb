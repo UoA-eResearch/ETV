{
 "cells": [
  {
   "cell_type": "code",
   "execution_count": 1,
   "metadata": {},
   "outputs": [
    {
     "name": "stderr",
     "output_type": "stream",
     "text": [
      "/home/ubuntu/.local/lib/python3.10/site-packages/tqdm/auto.py:21: TqdmWarning: IProgress not found. Please update jupyter and ipywidgets. See https://ipywidgets.readthedocs.io/en/stable/user_install.html\n",
      "  from .autonotebook import tqdm as notebook_tqdm\n",
      "2024-05-16 21:15:36.304983: I tensorflow/core/util/port.cc:113] oneDNN custom operations are on. You may see slightly different numerical results due to floating-point round-off errors from different computation orders. To turn them off, set the environment variable `TF_ENABLE_ONEDNN_OPTS=0`.\n",
      "2024-05-16 21:15:36.360667: I tensorflow/core/platform/cpu_feature_guard.cc:210] This TensorFlow binary is optimized to use available CPU instructions in performance-critical operations.\n",
      "To enable the following instructions: AVX2 AVX512F AVX512_VNNI FMA, in other operations, rebuild TensorFlow with the appropriate compiler flags.\n",
      "2024-05-16 21:15:37.177664: W tensorflow/compiler/tf2tensorrt/utils/py_utils.cc:38] TF-TRT Warning: Could not find TensorRT\n"
     ]
    },
    {
     "data": {
      "text/html": [
       "<div>\n",
       "<style scoped>\n",
       "    .dataframe tbody tr th:only-of-type {\n",
       "        vertical-align: middle;\n",
       "    }\n",
       "\n",
       "    .dataframe tbody tr th {\n",
       "        vertical-align: top;\n",
       "    }\n",
       "\n",
       "    .dataframe thead th {\n",
       "        text-align: right;\n",
       "    }\n",
       "</style>\n",
       "<table border=\"1\" class=\"dataframe\">\n",
       "  <thead>\n",
       "    <tr style=\"text-align: right;\">\n",
       "      <th></th>\n",
       "      <th>File Name</th>\n",
       "      <th>Name</th>\n",
       "      <th>Description</th>\n",
       "      <th>Duration</th>\n",
       "      <th>Type</th>\n",
       "      <th>Subject</th>\n",
       "      <th>Age Level</th>\n",
       "      <th>Channel</th>\n",
       "      <th>Recording Date</th>\n",
       "      <th>Recording Time</th>\n",
       "      <th>id</th>\n",
       "      <th>link</th>\n",
       "      <th>size_bytes</th>\n",
       "      <th>transcript</th>\n",
       "    </tr>\n",
       "  </thead>\n",
       "  <tbody>\n",
       "    <tr>\n",
       "      <th>0</th>\n",
       "      <td>etv/country_calendar_-_air_new_zealand_uniform...</td>\n",
       "      <td>country calendar - air new zealand uniforms 23...</td>\n",
       "      <td>from www.throng.co.nz : this episode of nation...</td>\n",
       "      <td>00:21:33</td>\n",
       "      <td>Library</td>\n",
       "      <td>NaN</td>\n",
       "      <td>G</td>\n",
       "      <td>lostplusfound</td>\n",
       "      <td>2008-10-23</td>\n",
       "      <td>00:00:00</td>\n",
       "      <td>61580</td>\n",
       "      <td>https://cdn.etv.org.nz/etv/country_calendar_-_...</td>\n",
       "      <td>145371146</td>\n",
       "      <td>Music Music Music Music Music Music Music Mus...</td>\n",
       "    </tr>\n",
       "    <tr>\n",
       "      <th>1</th>\n",
       "      <td>etv/TV_One_1900_21022009_20090221193153256qtst...</td>\n",
       "      <td>Country Calendar - Series 2009 - Episode 1</td>\n",
       "      <td>'Lyn of Taranaki' Country Calendar starts its ...</td>\n",
       "      <td>00:29:57</td>\n",
       "      <td>Documentary</td>\n",
       "      <td>Agriculture &amp; Horticulture, Business, Ecology ...</td>\n",
       "      <td>Unrated</td>\n",
       "      <td>TV 1</td>\n",
       "      <td>2009-02-21</td>\n",
       "      <td>19:00:00</td>\n",
       "      <td>12564</td>\n",
       "      <td>https://cdn.etv.org.nz/etv/TV_One_1900_2102200...</td>\n",
       "      <td>49973516</td>\n",
       "      <td>Lin Webster's life has taken many unusual twi...</td>\n",
       "    </tr>\n",
       "    <tr>\n",
       "      <th>2</th>\n",
       "      <td>etv/TV_One_1900_28022009_20090228193154256qtst...</td>\n",
       "      <td>Country Calendar - Series 2009 - Episode 2</td>\n",
       "      <td>'Shared Fruit' New Zealand and Chinese scienti...</td>\n",
       "      <td>00:29:56</td>\n",
       "      <td>Documentary</td>\n",
       "      <td>Agriculture &amp; Horticulture, Asian Studies, Bus...</td>\n",
       "      <td>Unrated</td>\n",
       "      <td>TV 1</td>\n",
       "      <td>2009-02-28</td>\n",
       "      <td>19:00:00</td>\n",
       "      <td>12697</td>\n",
       "      <td>https://cdn.etv.org.nz/etv/TV_One_1900_2802200...</td>\n",
       "      <td>52854708</td>\n",
       "      <td>Yunnan, tucked away in the remote southwest o...</td>\n",
       "    </tr>\n",
       "    <tr>\n",
       "      <th>3</th>\n",
       "      <td>etv/TV_One_1900_07032009_20090307193229256qtst...</td>\n",
       "      <td>Country Calendar - Series 2009 - Episode 3</td>\n",
       "      <td>'Grassroots Leader' Bruce Rollinson is a late-...</td>\n",
       "      <td>00:29:56</td>\n",
       "      <td>Documentary</td>\n",
       "      <td>Agriculture &amp; Horticulture, Business, Economic...</td>\n",
       "      <td>Unrated</td>\n",
       "      <td>TV 1</td>\n",
       "      <td>2009-03-07</td>\n",
       "      <td>19:00:00</td>\n",
       "      <td>12812</td>\n",
       "      <td>https://cdn.etv.org.nz/etv/TV_One_1900_0703200...</td>\n",
       "      <td>51865839</td>\n",
       "      <td>The season on Mount Ropiku was the best for y...</td>\n",
       "    </tr>\n",
       "    <tr>\n",
       "      <th>4</th>\n",
       "      <td>etv/TV_One_1900_14032009_20090314193119768qtst...</td>\n",
       "      <td>Country Calendar - Series 2009 - Episode 4</td>\n",
       "      <td>'High-flying Fur' What's as fine as merino woo...</td>\n",
       "      <td>00:29:56</td>\n",
       "      <td>Documentary</td>\n",
       "      <td>Agriculture &amp; Horticulture, Biology, Business,...</td>\n",
       "      <td>Unrated</td>\n",
       "      <td>TV 1</td>\n",
       "      <td>2009-03-14</td>\n",
       "      <td>19:00:00</td>\n",
       "      <td>12939</td>\n",
       "      <td>https://cdn.etv.org.nz/etv/TV_One_1900_1403200...</td>\n",
       "      <td>154209978</td>\n",
       "      <td>With patches of bush and some good keen hunte...</td>\n",
       "    </tr>\n",
       "    <tr>\n",
       "      <th>...</th>\n",
       "      <td>...</td>\n",
       "      <td>...</td>\n",
       "      <td>...</td>\n",
       "      <td>...</td>\n",
       "      <td>...</td>\n",
       "      <td>...</td>\n",
       "      <td>...</td>\n",
       "      <td>...</td>\n",
       "      <td>...</td>\n",
       "      <td>...</td>\n",
       "      <td>...</td>\n",
       "      <td>...</td>\n",
       "      <td>...</td>\n",
       "      <td>...</td>\n",
       "    </tr>\n",
       "    <tr>\n",
       "      <th>511</th>\n",
       "      <td>etv/hyundai_country_cale_tv1_20240414_1900</td>\n",
       "      <td>Hyundai Country Calendar - Season 2024 - 14 Ap...</td>\n",
       "      <td>NaN</td>\n",
       "      <td>00:30:33</td>\n",
       "      <td>Documentary, Reality</td>\n",
       "      <td>Agriculture &amp; Horticulture, Business, Careers,...</td>\n",
       "      <td>G</td>\n",
       "      <td>TV 1</td>\n",
       "      <td>2024-04-14</td>\n",
       "      <td>19:00:00</td>\n",
       "      <td>518923</td>\n",
       "      <td>https://cdn.etv.org.nz/etv/hyundai_country_cal...</td>\n",
       "      <td>353531481</td>\n",
       "      <td>Always a favourite on every rural road. Hyund...</td>\n",
       "    </tr>\n",
       "    <tr>\n",
       "      <th>512</th>\n",
       "      <td>etv/hyundai_country_cale_tv1_20240421_1900</td>\n",
       "      <td>Hyundai Country Calendar - Season 2024 - 21 Ap...</td>\n",
       "      <td>NaN</td>\n",
       "      <td>00:30:21</td>\n",
       "      <td>Documentary, Reality</td>\n",
       "      <td>Agriculture &amp; Horticulture, Business, Careers,...</td>\n",
       "      <td>G</td>\n",
       "      <td>TV 1</td>\n",
       "      <td>2024-04-21</td>\n",
       "      <td>19:00:00</td>\n",
       "      <td>518922</td>\n",
       "      <td>https://cdn.etv.org.nz/etv/hyundai_country_cal...</td>\n",
       "      <td>344594242</td>\n",
       "      <td>Always a favourite on every rural road. Hyund...</td>\n",
       "    </tr>\n",
       "    <tr>\n",
       "      <th>513</th>\n",
       "      <td>etv/hyundai_country_cale_tv1_20240428_1900</td>\n",
       "      <td>Hyundai Country Calendar - Season 2024 - 28 Ap...</td>\n",
       "      <td>NaN</td>\n",
       "      <td>00:30:10</td>\n",
       "      <td>Documentary, Reality</td>\n",
       "      <td>Agriculture &amp; Horticulture, Business, Careers,...</td>\n",
       "      <td>G</td>\n",
       "      <td>TV 1</td>\n",
       "      <td>2024-04-28</td>\n",
       "      <td>19:00:00</td>\n",
       "      <td>518972</td>\n",
       "      <td>https://cdn.etv.org.nz/etv/hyundai_country_cal...</td>\n",
       "      <td>338647527</td>\n",
       "      <td>Always a favourite on every rural road. Hyund...</td>\n",
       "    </tr>\n",
       "    <tr>\n",
       "      <th>514</th>\n",
       "      <td>etv/hyundai_country_cale_tv1_20240505_1900</td>\n",
       "      <td>Hyundai Country Calendar - Season 2024 - 5 May...</td>\n",
       "      <td>NaN</td>\n",
       "      <td>00:30:45</td>\n",
       "      <td>Documentary, Reality</td>\n",
       "      <td>Agriculture &amp; Horticulture, Business, Careers,...</td>\n",
       "      <td>G</td>\n",
       "      <td>TV 1</td>\n",
       "      <td>2024-05-05</td>\n",
       "      <td>19:00:00</td>\n",
       "      <td>519110</td>\n",
       "      <td>https://cdn.etv.org.nz/etv/hyundai_country_cal...</td>\n",
       "      <td>352367660</td>\n",
       "      <td>Always a favourite on every rural road. Hyund...</td>\n",
       "    </tr>\n",
       "    <tr>\n",
       "      <th>515</th>\n",
       "      <td>etv/hyundai_country_cale_tv1_20240512_1900</td>\n",
       "      <td>Hyundai Country Calendar - Season 2024 - 12 Ma...</td>\n",
       "      <td>NaN</td>\n",
       "      <td>00:30:53</td>\n",
       "      <td>Documentary, Reality</td>\n",
       "      <td>Agriculture &amp; Horticulture, Business, Careers,...</td>\n",
       "      <td>G</td>\n",
       "      <td>TV 1</td>\n",
       "      <td>2024-05-12</td>\n",
       "      <td>19:00:00</td>\n",
       "      <td>519287</td>\n",
       "      <td>https://cdn.etv.org.nz/etv/hyundai_country_cal...</td>\n",
       "      <td>348651686</td>\n",
       "      <td>Always a favourite on every rural road. Hyund...</td>\n",
       "    </tr>\n",
       "  </tbody>\n",
       "</table>\n",
       "<p>516 rows × 14 columns</p>\n",
       "</div>"
      ],
      "text/plain": [
       "                                             File Name  \\\n",
       "0    etv/country_calendar_-_air_new_zealand_uniform...   \n",
       "1    etv/TV_One_1900_21022009_20090221193153256qtst...   \n",
       "2    etv/TV_One_1900_28022009_20090228193154256qtst...   \n",
       "3    etv/TV_One_1900_07032009_20090307193229256qtst...   \n",
       "4    etv/TV_One_1900_14032009_20090314193119768qtst...   \n",
       "..                                                 ...   \n",
       "511         etv/hyundai_country_cale_tv1_20240414_1900   \n",
       "512         etv/hyundai_country_cale_tv1_20240421_1900   \n",
       "513         etv/hyundai_country_cale_tv1_20240428_1900   \n",
       "514         etv/hyundai_country_cale_tv1_20240505_1900   \n",
       "515         etv/hyundai_country_cale_tv1_20240512_1900   \n",
       "\n",
       "                                                  Name  \\\n",
       "0    country calendar - air new zealand uniforms 23...   \n",
       "1           Country Calendar - Series 2009 - Episode 1   \n",
       "2           Country Calendar - Series 2009 - Episode 2   \n",
       "3           Country Calendar - Series 2009 - Episode 3   \n",
       "4           Country Calendar - Series 2009 - Episode 4   \n",
       "..                                                 ...   \n",
       "511  Hyundai Country Calendar - Season 2024 - 14 Ap...   \n",
       "512  Hyundai Country Calendar - Season 2024 - 21 Ap...   \n",
       "513  Hyundai Country Calendar - Season 2024 - 28 Ap...   \n",
       "514  Hyundai Country Calendar - Season 2024 - 5 May...   \n",
       "515  Hyundai Country Calendar - Season 2024 - 12 Ma...   \n",
       "\n",
       "                                           Description  Duration  \\\n",
       "0    from www.throng.co.nz : this episode of nation...  00:21:33   \n",
       "1    'Lyn of Taranaki' Country Calendar starts its ...  00:29:57   \n",
       "2    'Shared Fruit' New Zealand and Chinese scienti...  00:29:56   \n",
       "3    'Grassroots Leader' Bruce Rollinson is a late-...  00:29:56   \n",
       "4    'High-flying Fur' What's as fine as merino woo...  00:29:56   \n",
       "..                                                 ...       ...   \n",
       "511                                                NaN  00:30:33   \n",
       "512                                                NaN  00:30:21   \n",
       "513                                                NaN  00:30:10   \n",
       "514                                                NaN  00:30:45   \n",
       "515                                                NaN  00:30:53   \n",
       "\n",
       "                     Type                                            Subject  \\\n",
       "0                 Library                                                NaN   \n",
       "1             Documentary  Agriculture & Horticulture, Business, Ecology ...   \n",
       "2             Documentary  Agriculture & Horticulture, Asian Studies, Bus...   \n",
       "3             Documentary  Agriculture & Horticulture, Business, Economic...   \n",
       "4             Documentary  Agriculture & Horticulture, Biology, Business,...   \n",
       "..                    ...                                                ...   \n",
       "511  Documentary, Reality  Agriculture & Horticulture, Business, Careers,...   \n",
       "512  Documentary, Reality  Agriculture & Horticulture, Business, Careers,...   \n",
       "513  Documentary, Reality  Agriculture & Horticulture, Business, Careers,...   \n",
       "514  Documentary, Reality  Agriculture & Horticulture, Business, Careers,...   \n",
       "515  Documentary, Reality  Agriculture & Horticulture, Business, Careers,...   \n",
       "\n",
       "    Age Level        Channel Recording Date Recording Time      id  \\\n",
       "0           G  lostplusfound     2008-10-23       00:00:00   61580   \n",
       "1     Unrated           TV 1     2009-02-21       19:00:00   12564   \n",
       "2     Unrated           TV 1     2009-02-28       19:00:00   12697   \n",
       "3     Unrated           TV 1     2009-03-07       19:00:00   12812   \n",
       "4     Unrated           TV 1     2009-03-14       19:00:00   12939   \n",
       "..        ...            ...            ...            ...     ...   \n",
       "511         G           TV 1     2024-04-14       19:00:00  518923   \n",
       "512         G           TV 1     2024-04-21       19:00:00  518922   \n",
       "513         G           TV 1     2024-04-28       19:00:00  518972   \n",
       "514         G           TV 1     2024-05-05       19:00:00  519110   \n",
       "515         G           TV 1     2024-05-12       19:00:00  519287   \n",
       "\n",
       "                                                  link  size_bytes  \\\n",
       "0    https://cdn.etv.org.nz/etv/country_calendar_-_...   145371146   \n",
       "1    https://cdn.etv.org.nz/etv/TV_One_1900_2102200...    49973516   \n",
       "2    https://cdn.etv.org.nz/etv/TV_One_1900_2802200...    52854708   \n",
       "3    https://cdn.etv.org.nz/etv/TV_One_1900_0703200...    51865839   \n",
       "4    https://cdn.etv.org.nz/etv/TV_One_1900_1403200...   154209978   \n",
       "..                                                 ...         ...   \n",
       "511  https://cdn.etv.org.nz/etv/hyundai_country_cal...   353531481   \n",
       "512  https://cdn.etv.org.nz/etv/hyundai_country_cal...   344594242   \n",
       "513  https://cdn.etv.org.nz/etv/hyundai_country_cal...   338647527   \n",
       "514  https://cdn.etv.org.nz/etv/hyundai_country_cal...   352367660   \n",
       "515  https://cdn.etv.org.nz/etv/hyundai_country_cal...   348651686   \n",
       "\n",
       "                                            transcript  \n",
       "0     Music Music Music Music Music Music Music Mus...  \n",
       "1     Lin Webster's life has taken many unusual twi...  \n",
       "2     Yunnan, tucked away in the remote southwest o...  \n",
       "3     The season on Mount Ropiku was the best for y...  \n",
       "4     With patches of bush and some good keen hunte...  \n",
       "..                                                 ...  \n",
       "511   Always a favourite on every rural road. Hyund...  \n",
       "512   Always a favourite on every rural road. Hyund...  \n",
       "513   Always a favourite on every rural road. Hyund...  \n",
       "514   Always a favourite on every rural road. Hyund...  \n",
       "515   Always a favourite on every rural road. Hyund...  \n",
       "\n",
       "[516 rows x 14 columns]"
      ]
     },
     "execution_count": 1,
     "metadata": {},
     "output_type": "execute_result"
    }
   ],
   "source": [
    "import pandas as pd\n",
    "from glob import glob\n",
    "import json\n",
    "import os\n",
    "from bertopic import BERTopic\n",
    "from bertopic.representation import KeyBERTInspired\n",
    "\n",
    "df = pd.read_csv(\"country_calendar_metadata.csv\")\n",
    "df[\"Recording Date\"] = df[\"Recording Date\"].replace(\"0000-00-00\", \"2008-10-23\")\n",
    "\n",
    "def get_transcript(file):\n",
    "    file = os.path.basename(file.replace(\"?download=1\", \"\"))\n",
    "    transcript_filename = f\"transcripts/{file}.json\"\n",
    "    with open(transcript_filename) as f:\n",
    "        return json.load(f)[\"text\"]\n",
    "\n",
    "df[\"transcript\"] = df.link.apply(get_transcript)\n",
    "df"
   ]
  },
  {
   "cell_type": "code",
   "execution_count": 5,
   "metadata": {},
   "outputs": [
    {
     "data": {
      "text/html": [
       "<div>\n",
       "<style scoped>\n",
       "    .dataframe tbody tr th:only-of-type {\n",
       "        vertical-align: middle;\n",
       "    }\n",
       "\n",
       "    .dataframe tbody tr th {\n",
       "        vertical-align: top;\n",
       "    }\n",
       "\n",
       "    .dataframe thead th {\n",
       "        text-align: right;\n",
       "    }\n",
       "</style>\n",
       "<table border=\"1\" class=\"dataframe\">\n",
       "  <thead>\n",
       "    <tr style=\"text-align: right;\">\n",
       "      <th></th>\n",
       "      <th>Topic</th>\n",
       "      <th>Count</th>\n",
       "      <th>Name</th>\n",
       "      <th>Representation</th>\n",
       "      <th>Representative_Docs</th>\n",
       "    </tr>\n",
       "  </thead>\n",
       "  <tbody>\n",
       "    <tr>\n",
       "      <th>0</th>\n",
       "      <td>-1</td>\n",
       "      <td>166</td>\n",
       "      <td>-1_farm_home_bit_weve</td>\n",
       "      <td>[farm, home, bit, weve, over, day, what, count...</td>\n",
       "      <td>[ At home on every rural road, Hyundai Country...</td>\n",
       "    </tr>\n",
       "    <tr>\n",
       "      <th>1</th>\n",
       "      <td>0</td>\n",
       "      <td>50</td>\n",
       "      <td>0_cows_farm_milk_make</td>\n",
       "      <td>[cows, farm, milk, make, get, going, bit, what...</td>\n",
       "      <td>[ at home on every rural road hyundai country ...</td>\n",
       "    </tr>\n",
       "    <tr>\n",
       "      <th>2</th>\n",
       "      <td>1</td>\n",
       "      <td>40</td>\n",
       "      <td>1_fruit_orchard_trees_tree</td>\n",
       "      <td>[fruit, orchard, trees, tree, are, bit, years,...</td>\n",
       "      <td>[ At home on every rural road, Hyundai Country...</td>\n",
       "    </tr>\n",
       "    <tr>\n",
       "      <th>3</th>\n",
       "      <td>2</td>\n",
       "      <td>26</td>\n",
       "      <td>2_fishing_fish_boat_catch</td>\n",
       "      <td>[fishing, fish, boat, catch, seaweed, get, aro...</td>\n",
       "      <td>[ At home on every rural road, Hyundai Country...</td>\n",
       "    </tr>\n",
       "    <tr>\n",
       "      <th>4</th>\n",
       "      <td>3</td>\n",
       "      <td>23</td>\n",
       "      <td>3_farm_farming_country_weve</td>\n",
       "      <td>[farm, farming, country, weve, bit, going, aro...</td>\n",
       "      <td>[ I love the early mornings. Good girl, Marisa...</td>\n",
       "    </tr>\n",
       "    <tr>\n",
       "      <th>5</th>\n",
       "      <td>4</td>\n",
       "      <td>23</td>\n",
       "      <td>4_farm_home_going_pretty</td>\n",
       "      <td>[farm, home, going, pretty, day, little, bit, ...</td>\n",
       "      <td>[ Always a favourite on every rural road. Hyun...</td>\n",
       "    </tr>\n",
       "    <tr>\n",
       "      <th>6</th>\n",
       "      <td>5</td>\n",
       "      <td>21</td>\n",
       "      <td>5_farm_dogs_deer_work</td>\n",
       "      <td>[farm, dogs, deer, work, dog, bit, around, goi...</td>\n",
       "      <td>[ At home on every rural road, Hyundai Country...</td>\n",
       "    </tr>\n",
       "    <tr>\n",
       "      <th>7</th>\n",
       "      <td>6</td>\n",
       "      <td>18</td>\n",
       "      <td>6_horse_horses_riding_farm</td>\n",
       "      <td>[horse, horses, riding, farm, bit, work, going...</td>\n",
       "      <td>[ At home on every rural road, Hyundai Country...</td>\n",
       "    </tr>\n",
       "    <tr>\n",
       "      <th>8</th>\n",
       "      <td>7</td>\n",
       "      <td>16</td>\n",
       "      <td>7_farm_going_bit_weve</td>\n",
       "      <td>[farm, going, bit, weve, day, we, sheep, get, ...</td>\n",
       "      <td>[ At home on every rural road, Hyundai Country...</td>\n",
       "    </tr>\n",
       "    <tr>\n",
       "      <th>9</th>\n",
       "      <td>8</td>\n",
       "      <td>15</td>\n",
       "      <td>8_winery_vineyard_wines_wine</td>\n",
       "      <td>[winery, vineyard, wines, wine, grapes, zealan...</td>\n",
       "      <td>[ Good night. It's been a fickle season for gr...</td>\n",
       "    </tr>\n",
       "    <tr>\n",
       "      <th>10</th>\n",
       "      <td>9</td>\n",
       "      <td>13</td>\n",
       "      <td>9_grow_growing_going_make</td>\n",
       "      <td>[grow, growing, going, make, doing, weve, arou...</td>\n",
       "      <td>[ Always a favourite on every rural road. Hyun...</td>\n",
       "    </tr>\n",
       "    <tr>\n",
       "      <th>11</th>\n",
       "      <td>10</td>\n",
       "      <td>13</td>\n",
       "      <td>10_beekeeping_bees_bee_hive</td>\n",
       "      <td>[beekeeping, bees, bee, hive, hives, honey, bu...</td>\n",
       "      <td>[ Always a favourite on every rural road. Hyun...</td>\n",
       "    </tr>\n",
       "    <tr>\n",
       "      <th>12</th>\n",
       "      <td>11</td>\n",
       "      <td>13</td>\n",
       "      <td>11_zealand_day_island_all</td>\n",
       "      <td>[zealand, day, island, all, very, going, just,...</td>\n",
       "      <td>[ Rest of your night, let's hope the ABs serve...</td>\n",
       "    </tr>\n",
       "    <tr>\n",
       "      <th>13</th>\n",
       "      <td>12</td>\n",
       "      <td>11</td>\n",
       "      <td>12_wapiti_farm_country_bit</td>\n",
       "      <td>[wapiti, farm, country, bit, place, we, home, ...</td>\n",
       "      <td>[ At home on every rural road, Hyundai Country...</td>\n",
       "    </tr>\n",
       "    <tr>\n",
       "      <th>14</th>\n",
       "      <td>13</td>\n",
       "      <td>10</td>\n",
       "      <td>13_lambs_lamb_sheep_farm</td>\n",
       "      <td>[lambs, lamb, sheep, farm, home, make, family,...</td>\n",
       "      <td>[ At home on every rural road, Hyundai Country...</td>\n",
       "    </tr>\n",
       "    <tr>\n",
       "      <th>15</th>\n",
       "      <td>14</td>\n",
       "      <td>10</td>\n",
       "      <td>14_goats_goat_sheep_farm</td>\n",
       "      <td>[goats, goat, sheep, farm, milking, milk, zeal...</td>\n",
       "      <td>[ Always a favourite on every rural road. Hyun...</td>\n",
       "    </tr>\n",
       "    <tr>\n",
       "      <th>16</th>\n",
       "      <td>15</td>\n",
       "      <td>9</td>\n",
       "      <td>15_farm_muster_cattle_country</td>\n",
       "      <td>[farm, muster, cattle, country, home, going, o...</td>\n",
       "      <td>[ Music You'll find this hard to believe but I...</td>\n",
       "    </tr>\n",
       "    <tr>\n",
       "      <th>17</th>\n",
       "      <td>16</td>\n",
       "      <td>8</td>\n",
       "      <td>16_farm_chickens_eggs_organic</td>\n",
       "      <td>[farm, chickens, eggs, organic, egg, chicken, ...</td>\n",
       "      <td>[ Music Tolliger Bay is among the first in the...</td>\n",
       "    </tr>\n",
       "    <tr>\n",
       "      <th>18</th>\n",
       "      <td>17</td>\n",
       "      <td>7</td>\n",
       "      <td>17_sheep_farm_zealand_canterbury</td>\n",
       "      <td>[sheep, farm, zealand, canterbury, bit, home, ...</td>\n",
       "      <td>[ at home on every rural road hyundai country ...</td>\n",
       "    </tr>\n",
       "    <tr>\n",
       "      <th>19</th>\n",
       "      <td>18</td>\n",
       "      <td>7</td>\n",
       "      <td>18_sheep_wool_farm_merino</td>\n",
       "      <td>[sheep, wool, farm, merino, bit, are, is, very...</td>\n",
       "      <td>[ Always a favourite on every rural road. Hyun...</td>\n",
       "    </tr>\n",
       "    <tr>\n",
       "      <th>20</th>\n",
       "      <td>19</td>\n",
       "      <td>6</td>\n",
       "      <td>19_music_zealand_valley_land</td>\n",
       "      <td>[music, zealand, valley, land, gold, farm, wha...</td>\n",
       "      <td>[ Music Music Music Music Music Music Music Mu...</td>\n",
       "    </tr>\n",
       "    <tr>\n",
       "      <th>21</th>\n",
       "      <td>20</td>\n",
       "      <td>6</td>\n",
       "      <td>20_cherries_cherry_orchard_fruit</td>\n",
       "      <td>[cherries, cherry, orchard, fruit, trees, make...</td>\n",
       "      <td>[ Always a favourite on every rural road. Hyun...</td>\n",
       "    </tr>\n",
       "    <tr>\n",
       "      <th>22</th>\n",
       "      <td>21</td>\n",
       "      <td>5</td>\n",
       "      <td>21_farm_horses_country_wool</td>\n",
       "      <td>[farm, horses, country, wool, going, family, h...</td>\n",
       "      <td>[ Always a favourite on every rural road. Hyun...</td>\n",
       "    </tr>\n",
       "  </tbody>\n",
       "</table>\n",
       "</div>"
      ],
      "text/plain": [
       "    Topic  Count                              Name  \\\n",
       "0      -1    166             -1_farm_home_bit_weve   \n",
       "1       0     50             0_cows_farm_milk_make   \n",
       "2       1     40        1_fruit_orchard_trees_tree   \n",
       "3       2     26         2_fishing_fish_boat_catch   \n",
       "4       3     23       3_farm_farming_country_weve   \n",
       "5       4     23          4_farm_home_going_pretty   \n",
       "6       5     21             5_farm_dogs_deer_work   \n",
       "7       6     18        6_horse_horses_riding_farm   \n",
       "8       7     16             7_farm_going_bit_weve   \n",
       "9       8     15      8_winery_vineyard_wines_wine   \n",
       "10      9     13         9_grow_growing_going_make   \n",
       "11     10     13       10_beekeeping_bees_bee_hive   \n",
       "12     11     13         11_zealand_day_island_all   \n",
       "13     12     11        12_wapiti_farm_country_bit   \n",
       "14     13     10          13_lambs_lamb_sheep_farm   \n",
       "15     14     10          14_goats_goat_sheep_farm   \n",
       "16     15      9     15_farm_muster_cattle_country   \n",
       "17     16      8     16_farm_chickens_eggs_organic   \n",
       "18     17      7  17_sheep_farm_zealand_canterbury   \n",
       "19     18      7         18_sheep_wool_farm_merino   \n",
       "20     19      6      19_music_zealand_valley_land   \n",
       "21     20      6  20_cherries_cherry_orchard_fruit   \n",
       "22     21      5       21_farm_horses_country_wool   \n",
       "\n",
       "                                       Representation  \\\n",
       "0   [farm, home, bit, weve, over, day, what, count...   \n",
       "1   [cows, farm, milk, make, get, going, bit, what...   \n",
       "2   [fruit, orchard, trees, tree, are, bit, years,...   \n",
       "3   [fishing, fish, boat, catch, seaweed, get, aro...   \n",
       "4   [farm, farming, country, weve, bit, going, aro...   \n",
       "5   [farm, home, going, pretty, day, little, bit, ...   \n",
       "6   [farm, dogs, deer, work, dog, bit, around, goi...   \n",
       "7   [horse, horses, riding, farm, bit, work, going...   \n",
       "8   [farm, going, bit, weve, day, we, sheep, get, ...   \n",
       "9   [winery, vineyard, wines, wine, grapes, zealan...   \n",
       "10  [grow, growing, going, make, doing, weve, arou...   \n",
       "11  [beekeeping, bees, bee, hive, hives, honey, bu...   \n",
       "12  [zealand, day, island, all, very, going, just,...   \n",
       "13  [wapiti, farm, country, bit, place, we, home, ...   \n",
       "14  [lambs, lamb, sheep, farm, home, make, family,...   \n",
       "15  [goats, goat, sheep, farm, milking, milk, zeal...   \n",
       "16  [farm, muster, cattle, country, home, going, o...   \n",
       "17  [farm, chickens, eggs, organic, egg, chicken, ...   \n",
       "18  [sheep, farm, zealand, canterbury, bit, home, ...   \n",
       "19  [sheep, wool, farm, merino, bit, are, is, very...   \n",
       "20  [music, zealand, valley, land, gold, farm, wha...   \n",
       "21  [cherries, cherry, orchard, fruit, trees, make...   \n",
       "22  [farm, horses, country, wool, going, family, h...   \n",
       "\n",
       "                                  Representative_Docs  \n",
       "0   [ At home on every rural road, Hyundai Country...  \n",
       "1   [ at home on every rural road hyundai country ...  \n",
       "2   [ At home on every rural road, Hyundai Country...  \n",
       "3   [ At home on every rural road, Hyundai Country...  \n",
       "4   [ I love the early mornings. Good girl, Marisa...  \n",
       "5   [ Always a favourite on every rural road. Hyun...  \n",
       "6   [ At home on every rural road, Hyundai Country...  \n",
       "7   [ At home on every rural road, Hyundai Country...  \n",
       "8   [ At home on every rural road, Hyundai Country...  \n",
       "9   [ Good night. It's been a fickle season for gr...  \n",
       "10  [ Always a favourite on every rural road. Hyun...  \n",
       "11  [ Always a favourite on every rural road. Hyun...  \n",
       "12  [ Rest of your night, let's hope the ABs serve...  \n",
       "13  [ At home on every rural road, Hyundai Country...  \n",
       "14  [ At home on every rural road, Hyundai Country...  \n",
       "15  [ Always a favourite on every rural road. Hyun...  \n",
       "16  [ Music You'll find this hard to believe but I...  \n",
       "17  [ Music Tolliger Bay is among the first in the...  \n",
       "18  [ at home on every rural road hyundai country ...  \n",
       "19  [ Always a favourite on every rural road. Hyun...  \n",
       "20  [ Music Music Music Music Music Music Music Mu...  \n",
       "21  [ Always a favourite on every rural road. Hyun...  \n",
       "22  [ Always a favourite on every rural road. Hyun...  "
      ]
     },
     "execution_count": 5,
     "metadata": {},
     "output_type": "execute_result"
    }
   ],
   "source": [
    "topic_model = BERTopic(representation_model=KeyBERTInspired(), min_topic_size=5)\n",
    "topic_model.fit(df.transcript)\n",
    "topic_model.get_topic_info()"
   ]
  },
  {
   "cell_type": "code",
   "execution_count": 6,
   "metadata": {},
   "outputs": [
    {
     "data": {
      "text/html": [
       "<div>\n",
       "<style scoped>\n",
       "    .dataframe tbody tr th:only-of-type {\n",
       "        vertical-align: middle;\n",
       "    }\n",
       "\n",
       "    .dataframe tbody tr th {\n",
       "        vertical-align: top;\n",
       "    }\n",
       "\n",
       "    .dataframe thead th {\n",
       "        text-align: right;\n",
       "    }\n",
       "</style>\n",
       "<table border=\"1\" class=\"dataframe\">\n",
       "  <thead>\n",
       "    <tr style=\"text-align: right;\">\n",
       "      <th></th>\n",
       "      <th>Topic</th>\n",
       "      <th>Words</th>\n",
       "      <th>Frequency</th>\n",
       "      <th>Timestamp</th>\n",
       "    </tr>\n",
       "  </thead>\n",
       "  <tbody>\n",
       "    <tr>\n",
       "      <th>0</th>\n",
       "      <td>-1</td>\n",
       "      <td>farm, bit, is, home, are</td>\n",
       "      <td>5</td>\n",
       "      <td>2008-10-17 07:40:48</td>\n",
       "    </tr>\n",
       "    <tr>\n",
       "      <th>1</th>\n",
       "      <td>0</td>\n",
       "      <td>cows, farm, cow, milking, farming</td>\n",
       "      <td>2</td>\n",
       "      <td>2008-10-17 07:40:48</td>\n",
       "    </tr>\n",
       "    <tr>\n",
       "      <th>2</th>\n",
       "      <td>1</td>\n",
       "      <td>fruit, yunnan, peas, seeds, pea</td>\n",
       "      <td>2</td>\n",
       "      <td>2008-10-17 07:40:48</td>\n",
       "    </tr>\n",
       "    <tr>\n",
       "      <th>3</th>\n",
       "      <td>2</td>\n",
       "      <td>fishing, boat, fish, boats, sea</td>\n",
       "      <td>1</td>\n",
       "      <td>2008-10-17 07:40:48</td>\n",
       "    </tr>\n",
       "    <tr>\n",
       "      <th>4</th>\n",
       "      <td>3</td>\n",
       "      <td>farming, farm, penguins, penguin, tourism</td>\n",
       "      <td>1</td>\n",
       "      <td>2008-10-17 07:40:48</td>\n",
       "    </tr>\n",
       "    <tr>\n",
       "      <th>...</th>\n",
       "      <td>...</td>\n",
       "      <td>...</td>\n",
       "      <td>...</td>\n",
       "      <td>...</td>\n",
       "    </tr>\n",
       "    <tr>\n",
       "      <th>215</th>\n",
       "      <td>12</td>\n",
       "      <td>mahinga, makarini, waterways, farmers, river</td>\n",
       "      <td>1</td>\n",
       "      <td>2023-08-02 00:00:00</td>\n",
       "    </tr>\n",
       "    <tr>\n",
       "      <th>216</th>\n",
       "      <td>13</td>\n",
       "      <td>sheep, lamb, lambs, farm, wool</td>\n",
       "      <td>1</td>\n",
       "      <td>2023-08-02 00:00:00</td>\n",
       "    </tr>\n",
       "    <tr>\n",
       "      <th>217</th>\n",
       "      <td>14</td>\n",
       "      <td>goats, goat, farm, milking, milk</td>\n",
       "      <td>1</td>\n",
       "      <td>2023-08-02 00:00:00</td>\n",
       "    </tr>\n",
       "    <tr>\n",
       "      <th>218</th>\n",
       "      <td>18</td>\n",
       "      <td>merino, sheep, farm, zealand, wool</td>\n",
       "      <td>1</td>\n",
       "      <td>2023-08-02 00:00:00</td>\n",
       "    </tr>\n",
       "    <tr>\n",
       "      <th>219</th>\n",
       "      <td>20</td>\n",
       "      <td>cherry, cherries, orchard, trees, fruit</td>\n",
       "      <td>2</td>\n",
       "      <td>2023-08-02 00:00:00</td>\n",
       "    </tr>\n",
       "  </tbody>\n",
       "</table>\n",
       "<p>220 rows × 4 columns</p>\n",
       "</div>"
      ],
      "text/plain": [
       "     Topic                                         Words  Frequency  \\\n",
       "0       -1                      farm, bit, is, home, are          5   \n",
       "1        0             cows, farm, cow, milking, farming          2   \n",
       "2        1               fruit, yunnan, peas, seeds, pea          2   \n",
       "3        2               fishing, boat, fish, boats, sea          1   \n",
       "4        3     farming, farm, penguins, penguin, tourism          1   \n",
       "..     ...                                           ...        ...   \n",
       "215     12  mahinga, makarini, waterways, farmers, river          1   \n",
       "216     13                sheep, lamb, lambs, farm, wool          1   \n",
       "217     14              goats, goat, farm, milking, milk          1   \n",
       "218     18            merino, sheep, farm, zealand, wool          1   \n",
       "219     20       cherry, cherries, orchard, trees, fruit          2   \n",
       "\n",
       "              Timestamp  \n",
       "0   2008-10-17 07:40:48  \n",
       "1   2008-10-17 07:40:48  \n",
       "2   2008-10-17 07:40:48  \n",
       "3   2008-10-17 07:40:48  \n",
       "4   2008-10-17 07:40:48  \n",
       "..                  ...  \n",
       "215 2023-08-02 00:00:00  \n",
       "216 2023-08-02 00:00:00  \n",
       "217 2023-08-02 00:00:00  \n",
       "218 2023-08-02 00:00:00  \n",
       "219 2023-08-02 00:00:00  \n",
       "\n",
       "[220 rows x 4 columns]"
      ]
     },
     "execution_count": 6,
     "metadata": {},
     "output_type": "execute_result"
    }
   ],
   "source": [
    "topics_over_time = topic_model.topics_over_time(df.transcript, df[\"Recording Date\"], nr_bins=20)\n",
    "topics_over_time"
   ]
  },
  {
   "cell_type": "code",
   "execution_count": 7,
   "metadata": {},
   "outputs": [
    {
     "data": {
      "application/vnd.plotly.v1+json": {
       "config": {
        "plotlyServerURL": "https://plot.ly"
       },
       "data": [
        {
         "hoverinfo": "text",
         "hovertext": [
          "<b>Topic 0</b><br>Words: cows, farm, cow, milking, farming",
          "<b>Topic 0</b><br>Words: mozzarella, cheese, buffalo, clevedon, cows",
          "<b>Topic 0</b><br>Words: farm, land, goats, valley, boulders",
          "<b>Topic 0</b><br>Words: chooks, farming, farm, cows, dairy",
          "<b>Topic 0</b><br>Words: cows, farm, farming, life, weve",
          "<b>Topic 0</b><br>Words: dairy, cows, milk, farm, cheese",
          "<b>Topic 0</b><br>Words: cattle, cows, milking, farm, water",
          "<b>Topic 0</b><br>Words: cows, farm, milk, cheese, family",
          "<b>Topic 0</b><br>Words: cows, milking, dairy, milk, farm",
          "<b>Topic 0</b><br>Words: cows, cow, farm, milk, bulls",
          "<b>Topic 0</b><br>Words: cows, farm, calves, beef, milk",
          "<b>Topic 0</b><br>Words: dairy, cows, farm, milk, food",
          "<b>Topic 0</b><br>Words: cows, calves, farm, dairy, farming",
          "<b>Topic 0</b><br>Words: cows, farm, farming, dairy, milk",
          "<b>Topic 0</b><br>Words: farm, dairy, milk, cows, make",
          "<b>Topic 0</b><br>Words: cow, whenua, cows, milking, farm",
          "<b>Topic 0</b><br>Words: cows, farm, farming, milk, cheese",
          "<b>Topic 0</b><br>Words: farm, cows, farming, calf, milk"
         ],
         "marker": {
          "color": "#E69F00"
         },
         "mode": "lines",
         "name": "0_cows_farm_milk_make",
         "type": "scatter",
         "x": [
          "2008-10-17T07:40:48",
          "2009-08-03T00:00:00",
          "2010-05-14T00:00:00",
          "2011-12-03T00:00:00",
          "2012-09-12T00:00:00",
          "2013-06-23T00:00:00",
          "2014-04-03T00:00:00",
          "2015-01-12T00:00:00",
          "2016-08-02T00:00:00",
          "2017-05-13T00:00:00",
          "2018-02-21T00:00:00",
          "2018-12-02T00:00:00",
          "2019-09-12T00:00:00",
          "2020-06-22T00:00:00",
          "2021-04-02T00:00:00",
          "2022-01-11T00:00:00",
          "2022-10-22T00:00:00",
          "2023-08-02T00:00:00"
         ],
         "y": [
          2,
          1,
          1,
          1,
          3,
          2,
          2,
          5,
          5,
          4,
          6,
          3,
          1,
          1,
          4,
          1,
          7,
          1
         ]
        },
        {
         "hoverinfo": "text",
         "hovertext": [
          "<b>Topic 1</b><br>Words: fruit, yunnan, peas, seeds, pea",
          "<b>Topic 1</b><br>Words: chinese, growers, fruit, orchard, grow",
          "<b>Topic 1</b><br>Words: avocados, orchard, avocado, trees, tree",
          "<b>Topic 1</b><br>Words: trees, planting, timber, seed, fruit",
          "<b>Topic 1</b><br>Words: fruit, orchard, nuts, growing, nut",
          "<b>Topic 1</b><br>Words: fruit, orchard, trees, mushrooms, things",
          "<b>Topic 1</b><br>Words: fruit, orchard, trees, things, family",
          "<b>Topic 1</b><br>Words: fruit, avocado, orchard, farm, marmalade",
          "<b>Topic 1</b><br>Words: fruit, trees, orchard, tree, zealand",
          "<b>Topic 1</b><br>Words: walnuts, orchard, trees, fruit, nuts",
          "<b>Topic 1</b><br>Words: orchard, fruit, pine, trees, tree",
          "<b>Topic 1</b><br>Words: fruit, persimmons, orchard, milking, milk",
          "<b>Topic 1</b><br>Words: fruit, orchard, trees, tree, juice",
          "<b>Topic 1</b><br>Words: walnut, walnuts, pineapple, pineapples, orchard",
          "<b>Topic 1</b><br>Words: citrus, fruit, lemons, avocados, growing",
          "<b>Topic 1</b><br>Words: orchard, fruit, trees, little, around"
         ],
         "marker": {
          "color": "#56B4E9"
         },
         "mode": "lines",
         "name": "1_fruit_orchard_trees_tree",
         "type": "scatter",
         "x": [
          "2008-10-17T07:40:48",
          "2009-08-03T00:00:00",
          "2012-09-12T00:00:00",
          "2013-06-23T00:00:00",
          "2014-04-03T00:00:00",
          "2015-01-12T00:00:00",
          "2016-08-02T00:00:00",
          "2017-05-13T00:00:00",
          "2018-02-21T00:00:00",
          "2018-12-02T00:00:00",
          "2019-09-12T00:00:00",
          "2020-06-22T00:00:00",
          "2021-04-02T00:00:00",
          "2022-01-11T00:00:00",
          "2022-10-22T00:00:00",
          "2023-08-02T00:00:00"
         ],
         "y": [
          2,
          1,
          1,
          2,
          2,
          5,
          2,
          3,
          3,
          2,
          3,
          1,
          6,
          2,
          2,
          3
         ]
        },
        {
         "hoverinfo": "text",
         "hovertext": [
          "<b>Topic 2</b><br>Words: fishing, boat, fish, boats, sea",
          "<b>Topic 2</b><br>Words: been, about, day, weve, what",
          "<b>Topic 2</b><br>Words: fishing, fish, harbour, catch, brian",
          "<b>Topic 2</b><br>Words: shellfish, fishing, sea, fish, seaweed",
          "<b>Topic 2</b><br>Words: fishing, flounders, flounder, fish, joel",
          "<b>Topic 2</b><br>Words: fishing, fish, mussels, mussel, water",
          "<b>Topic 2</b><br>Words: fishing, boat, fish, catch, work",
          "<b>Topic 2</b><br>Words: oyster, oysters, farm, island, fishing",
          "<b>Topic 2</b><br>Words: fishing, fish, crayfish, freshwater, boat",
          "<b>Topic 2</b><br>Words: fishing, fish, boat, crayfish, cod",
          "<b>Topic 2</b><br>Words: fishing, fish, island, crabbing, kapiti",
          "<b>Topic 2</b><br>Words: fishing, sea, fish, boat, island",
          "<b>Topic 2</b><br>Words: seaweed, sea, ocean, zealand, fish"
         ],
         "marker": {
          "color": "#009E73"
         },
         "mode": "lines",
         "name": "2_fishing_fish_boat_catch",
         "type": "scatter",
         "x": [
          "2008-10-17T07:40:48",
          "2010-05-14T00:00:00",
          "2013-06-23T00:00:00",
          "2014-04-03T00:00:00",
          "2015-01-12T00:00:00",
          "2015-10-23T00:00:00",
          "2016-08-02T00:00:00",
          "2017-05-13T00:00:00",
          "2018-02-21T00:00:00",
          "2019-09-12T00:00:00",
          "2020-06-22T00:00:00",
          "2022-01-11T00:00:00",
          "2022-10-22T00:00:00"
         ],
         "y": [
          1,
          1,
          1,
          4,
          1,
          3,
          3,
          1,
          4,
          2,
          1,
          3,
          1
         ]
        },
        {
         "hoverinfo": "text",
         "hovertext": [
          "<b>Topic 3</b><br>Words: farming, farm, penguins, penguin, tourism",
          "<b>Topic 3</b><br>Words: farm, farming, weve, us, place",
          "<b>Topic 3</b><br>Words: farm, nick, work, job, stock",
          "<b>Topic 3</b><br>Words: farm, farming, castle, owners, closeburn",
          "<b>Topic 3</b><br>Words: farm, home, instruments, ha, very",
          "<b>Topic 3</b><br>Words: island, barrier, farm, soil, bamboo",
          "<b>Topic 3</b><br>Words: farm, deer, wetlands, wetland, conservation",
          "<b>Topic 3</b><br>Words: farms, farm, land, onuku, money",
          "<b>Topic 3</b><br>Words: wetlands, wetland, farm, waituna, place",
          "<b>Topic 3</b><br>Words: farm, sheep, lambs, shed, lamb",
          "<b>Topic 3</b><br>Words: farm, cattle, family, place, going",
          "<b>Topic 3</b><br>Words: farm, sheep, shireen, conservation, ha",
          "<b>Topic 3</b><br>Words: farm, farming, sheep, travis, weve",
          "<b>Topic 3</b><br>Words: farm, planting, trees, things, bit"
         ],
         "marker": {
          "color": "#F0E442"
         },
         "mode": "lines",
         "name": "3_farm_farming_country_weve",
         "type": "scatter",
         "x": [
          "2008-10-17T07:40:48",
          "2011-02-22T00:00:00",
          "2012-09-12T00:00:00",
          "2013-06-23T00:00:00",
          "2014-04-03T00:00:00",
          "2015-10-23T00:00:00",
          "2016-08-02T00:00:00",
          "2018-02-21T00:00:00",
          "2018-12-02T00:00:00",
          "2019-09-12T00:00:00",
          "2020-06-22T00:00:00",
          "2021-04-02T00:00:00",
          "2022-01-11T00:00:00",
          "2022-10-22T00:00:00"
         ],
         "y": [
          1,
          1,
          1,
          2,
          2,
          1,
          2,
          1,
          1,
          1,
          4,
          1,
          3,
          2
         ]
        },
        {
         "hoverinfo": "text",
         "hovertext": [
          "<b>Topic 4</b><br>Words: vanilla, vanillas, zealand, what, years",
          "<b>Topic 4</b><br>Words: going, farm, home, work, be",
          "<b>Topic 4</b><br>Words: hunting, hunters, hills, going, jason",
          "<b>Topic 4</b><br>Words: harbour, kaipara, fishing, fish, flounder",
          "<b>Topic 4</b><br>Words: farm, river, shed, home, country",
          "<b>Topic 4</b><br>Words: place, going, farm, go, country",
          "<b>Topic 4</b><br>Words: zealand, flowers, home, going, country",
          "<b>Topic 4</b><br>Words: farm, home, going, milk, doing",
          "<b>Topic 4</b><br>Words: marlborough, mussels, mussel, oysters, farm",
          "<b>Topic 4</b><br>Words: farm, truffle, home, going, things",
          "<b>Topic 4</b><br>Words: boat, farm, truffle, truffles, going",
          "<b>Topic 4</b><br>Words: dogs, dog, trialling, farm, home",
          "<b>Topic 4</b><br>Words: cyclone, farm, coast, country, east"
         ],
         "marker": {
          "color": "#D55E00"
         },
         "mode": "lines",
         "name": "4_farm_home_going_pretty",
         "type": "scatter",
         "x": [
          "2011-12-03T00:00:00",
          "2013-06-23T00:00:00",
          "2014-04-03T00:00:00",
          "2015-01-12T00:00:00",
          "2015-10-23T00:00:00",
          "2018-02-21T00:00:00",
          "2018-12-02T00:00:00",
          "2019-09-12T00:00:00",
          "2020-06-22T00:00:00",
          "2021-04-02T00:00:00",
          "2022-01-11T00:00:00",
          "2022-10-22T00:00:00",
          "2023-08-02T00:00:00"
         ],
         "y": [
          1,
          3,
          1,
          1,
          1,
          1,
          3,
          2,
          1,
          3,
          3,
          1,
          2
         ]
        },
        {
         "hoverinfo": "text",
         "hovertext": [
          "<b>Topic 5</b><br>Words: dogs, dog, sheep, farm, davids",
          "<b>Topic 5</b><br>Words: farmer, farm, denise, dog, dogs",
          "<b>Topic 5</b><br>Words: family, life, work, do, them",
          "<b>Topic 5</b><br>Words: home, farm, work, farmers, dog",
          "<b>Topic 5</b><br>Words: farm, farming, deer, horse, work",
          "<b>Topic 5</b><br>Words: deer, farm, dogs, helicopter, tim",
          "<b>Topic 5</b><br>Words: helicopter, farm, family, matt, newton",
          "<b>Topic 5</b><br>Words: sheep, farm, horses, dogs, her",
          "<b>Topic 5</b><br>Words: farm, sheep, deer, dogs, dog",
          "<b>Topic 5</b><br>Words: farm, pigs, prisoners, piggery, bit",
          "<b>Topic 5</b><br>Words: dogs, dog, horse, tania, farm",
          "<b>Topic 5</b><br>Words: farm, deer, milk, minnow, bit",
          "<b>Topic 5</b><br>Words: farmer, farm, work, job, lisa",
          "<b>Topic 5</b><br>Words: farm, bit, work, always, around",
          "<b>Topic 5</b><br>Words: potatoes, farm, potato, bags, spuds",
          "<b>Topic 5</b><br>Words: farm, farming, mum, kids, dogs",
          "<b>Topic 5</b><br>Words: vet, mares, foaling, mare, farm"
         ],
         "marker": {
          "color": "#0072B2"
         },
         "mode": "lines",
         "name": "5_farm_dogs_deer_work",
         "type": "scatter",
         "x": [
          "2008-10-17T07:40:48",
          "2010-05-14T00:00:00",
          "2011-12-03T00:00:00",
          "2012-09-12T00:00:00",
          "2013-06-23T00:00:00",
          "2014-04-03T00:00:00",
          "2015-01-12T00:00:00",
          "2015-10-23T00:00:00",
          "2016-08-02T00:00:00",
          "2017-05-13T00:00:00",
          "2018-02-21T00:00:00",
          "2018-12-02T00:00:00",
          "2019-09-12T00:00:00",
          "2020-06-22T00:00:00",
          "2021-04-02T00:00:00",
          "2022-10-22T00:00:00",
          "2023-08-02T00:00:00"
         ],
         "y": [
          1,
          1,
          1,
          1,
          1,
          2,
          1,
          1,
          2,
          1,
          1,
          2,
          1,
          2,
          1,
          1,
          1
         ]
        },
        {
         "hoverinfo": "text",
         "hovertext": [
          "<b>Topic 6</b><br>Words: horse, horsemanship, horses, saddle, riding",
          "<b>Topic 6</b><br>Words: horse, horses, farm, snow, donna",
          "<b>Topic 6</b><br>Words: horses, horse, riding, farm, going",
          "<b>Topic 6</b><br>Words: horses, horse, farm, janine, going",
          "<b>Topic 6</b><br>Words: horse, horses, riding, ride, gavin",
          "<b>Topic 6</b><br>Words: horses, horse, farm, ride, frasers",
          "<b>Topic 6</b><br>Words: horses, horse, cattle, farm, riding",
          "<b>Topic 6</b><br>Words: horses, horse, going, to, work",
          "<b>Topic 6</b><br>Words: horse, horses, farm, sheep, going",
          "<b>Topic 6</b><br>Words: horse, horses, farm, irish, very"
         ],
         "marker": {
          "color": "#CC79A7"
         },
         "mode": "lines",
         "name": "6_horse_horses_riding_farm",
         "type": "scatter",
         "x": [
          "2009-08-03T00:00:00",
          "2012-09-12T00:00:00",
          "2014-04-03T00:00:00",
          "2015-01-12T00:00:00",
          "2015-10-23T00:00:00",
          "2016-08-02T00:00:00",
          "2017-05-13T00:00:00",
          "2018-12-02T00:00:00",
          "2019-09-12T00:00:00",
          "2022-01-11T00:00:00"
         ],
         "y": [
          1,
          2,
          4,
          2,
          1,
          1,
          2,
          1,
          2,
          2
         ]
        },
        {
         "hoverinfo": "text",
         "hovertext": [
          "<b>Topic 7</b><br>Words: competition, farm, work, wool, going",
          "<b>Topic 7</b><br>Words: going, farm, work, rog, weve",
          "<b>Topic 7</b><br>Words: horses, horse, kingi, ride, farm",
          "<b>Topic 7</b><br>Words: farm, going, sheep, day, get",
          "<b>Topic 7</b><br>Words: simon, going, bit, we, what",
          "<b>Topic 7</b><br>Words: cattle, sheep, farm, bit, what",
          "<b>Topic 7</b><br>Words: farmers, sheep, farm, wool, going",
          "<b>Topic 7</b><br>Words: going, are, record, weve, farm",
          "<b>Topic 7</b><br>Words: sheep, farm, laura, bit, going",
          "<b>Topic 7</b><br>Words: farm, lambs, wool, hills, zealand"
         ],
         "marker": {
          "color": "#E69F00"
         },
         "mode": "lines",
         "name": "7_farm_going_bit_weve",
         "type": "scatter",
         "x": [
          "2010-05-14T00:00:00",
          "2014-04-03T00:00:00",
          "2015-01-12T00:00:00",
          "2015-10-23T00:00:00",
          "2016-08-02T00:00:00",
          "2017-05-13T00:00:00",
          "2018-12-02T00:00:00",
          "2019-09-12T00:00:00",
          "2020-06-22T00:00:00",
          "2022-01-11T00:00:00"
         ],
         "y": [
          1,
          1,
          1,
          5,
          1,
          1,
          1,
          2,
          2,
          1
         ]
        },
        {
         "hoverinfo": "text",
         "hovertext": [
          "<b>Topic 8</b><br>Words: vineyards, vineyard, wines, grapes, wine",
          "<b>Topic 8</b><br>Words: winery, winemaking, vineyards, wines, vineyard",
          "<b>Topic 8</b><br>Words: winemaking, wines, vineyard, wine, grapes",
          "<b>Topic 8</b><br>Words: winery, wines, wine, vineyards, vineyard",
          "<b>Topic 8</b><br>Words: vineyard, winery, wines, grapes, wine",
          "<b>Topic 8</b><br>Words: vineyard, grapes, wines, wine, harvest",
          "<b>Topic 8</b><br>Words: vineyards, vineyard, winery, grapes, wines",
          "<b>Topic 8</b><br>Words: vineyard, wines, wine, grapes, pinot"
         ],
         "marker": {
          "color": "#56B4E9"
         },
         "mode": "lines",
         "name": "8_winery_vineyard_wines_wine",
         "type": "scatter",
         "x": [
          "2008-10-17T07:40:48",
          "2011-12-03T00:00:00",
          "2013-06-23T00:00:00",
          "2016-08-02T00:00:00",
          "2017-05-13T00:00:00",
          "2018-02-21T00:00:00",
          "2021-04-02T00:00:00",
          "2022-01-11T00:00:00"
         ],
         "y": [
          2,
          1,
          4,
          1,
          3,
          2,
          1,
          1
         ]
        },
        {
         "hoverinfo": "text",
         "hovertext": [
          "<b>Topic 9</b><br>Words: crops, growers, vegetable, grow, growing",
          "<b>Topic 9</b><br>Words: farm, alpacas, fibre, getting, country",
          "<b>Topic 9</b><br>Words: vegetable, harvest, produce, grow, growing",
          "<b>Topic 9</b><br>Words: garden, plants, grow, growing, soil",
          "<b>Topic 9</b><br>Words: tamarillo, tamarillos, orchard, growers, grow",
          "<b>Topic 9</b><br>Words: day, water, going, very, more",
          "<b>Topic 9</b><br>Words: flowers, plants, vegetables, day, growing"
         ],
         "marker": {
          "color": "#009E73"
         },
         "mode": "lines",
         "name": "9_grow_growing_going_make",
         "type": "scatter",
         "x": [
          "2008-10-17T07:40:48",
          "2015-01-12T00:00:00",
          "2020-06-22T00:00:00",
          "2021-04-02T00:00:00",
          "2022-01-11T00:00:00",
          "2022-10-22T00:00:00",
          "2023-08-02T00:00:00"
         ],
         "y": [
          1,
          2,
          2,
          4,
          1,
          1,
          2
         ]
        },
        {
         "hoverinfo": "text",
         "hovertext": [
          "<b>Topic 10</b><br>Words: beekeeping, beekeepers, bees, bee, hive",
          "<b>Topic 10</b><br>Words: bees, beekeeper, bee, hive, hives",
          "<b>Topic 10</b><br>Words: bees, beekeeping, manuka, honey, hive",
          "<b>Topic 10</b><br>Words: beekeeping, beekeeper, bee, bees, manuka",
          "<b>Topic 10</b><br>Words: hive, hives, bees, beekeeping, bee",
          "<b>Topic 10</b><br>Words: bees, hive, manuka, hives, honey",
          "<b>Topic 10</b><br>Words: beekeeping, bee, bees, hive, hives",
          "<b>Topic 10</b><br>Words: bees, beekeeping, bee, hive, hives",
          "<b>Topic 10</b><br>Words: beekeeping, beekeepers, bees, bee, hive"
         ],
         "marker": {
          "color": "#F0E442"
         },
         "mode": "lines",
         "name": "10_beekeeping_bees_bee_hive",
         "type": "scatter",
         "x": [
          "2009-08-03T00:00:00",
          "2014-04-03T00:00:00",
          "2017-05-13T00:00:00",
          "2018-02-21T00:00:00",
          "2018-12-02T00:00:00",
          "2019-09-12T00:00:00",
          "2021-04-02T00:00:00",
          "2022-01-11T00:00:00",
          "2023-08-02T00:00:00"
         ],
         "y": [
          1,
          1,
          1,
          2,
          1,
          3,
          2,
          1,
          1
         ]
        },
        {
         "hoverinfo": "text",
         "hovertext": [
          "<b>Topic 11</b><br>Words: island, vanuatu, pacific, zealand, vila",
          "<b>Topic 11</b><br>Words: visitors, home, get, all, very",
          "<b>Topic 11</b><br>Words: tony, day, we, think, much",
          "<b>Topic 11</b><br>Words: zealand, showers, island, day, all",
          "<b>Topic 11</b><br>Words: rivers, island, river, boat, brownie",
          "<b>Topic 11</b><br>Words: stewart, island, mussels, mussel, barge",
          "<b>Topic 11</b><br>Words: stewart, island, mussels, mussel, barge"
         ],
         "marker": {
          "color": "#D55E00"
         },
         "mode": "lines",
         "name": "11_zealand_day_island_all",
         "type": "scatter",
         "x": [
          "2008-10-17T07:40:48",
          "2009-08-03T00:00:00",
          "2010-05-14T00:00:00",
          "2011-02-22T00:00:00",
          "2012-09-12T00:00:00",
          "2013-06-23T00:00:00",
          "2015-10-23T00:00:00"
         ],
         "y": [
          1,
          1,
          3,
          5,
          1,
          1,
          1
         ]
        },
        {
         "hoverinfo": "text",
         "hovertext": [
          "<b>Topic 12</b><br>Words: wool, hunters, possums, fibre, fur",
          "<b>Topic 12</b><br>Words: country, farmers, sheep, farm, bit",
          "<b>Topic 12</b><br>Words: sheep, have, mackenzie, has, know",
          "<b>Topic 12</b><br>Words: kiwi, kiwis, farm, goldfish, ponds",
          "<b>Topic 12</b><br>Words: zealand, farm, aohanga, land, home",
          "<b>Topic 12</b><br>Words: farm, zealand, sheep, river, animals",
          "<b>Topic 12</b><br>Words: wapiti, fiordland, deer, country, hunters",
          "<b>Topic 12</b><br>Words: mahinga, makarini, waterways, farmers, river"
         ],
         "marker": {
          "color": "#0072B2"
         },
         "mode": "lines",
         "name": "12_wapiti_farm_country_bit",
         "type": "scatter",
         "x": [
          "2008-10-17T07:40:48",
          "2010-05-14T00:00:00",
          "2011-02-22T00:00:00",
          "2014-04-03T00:00:00",
          "2018-12-02T00:00:00",
          "2020-06-22T00:00:00",
          "2022-10-22T00:00:00",
          "2023-08-02T00:00:00"
         ],
         "y": [
          1,
          1,
          1,
          2,
          1,
          3,
          1,
          1
         ]
        },
        {
         "hoverinfo": "text",
         "hovertext": [
          "<b>Topic 13</b><br>Words: bloodstock, farm, horses, horse, tiako",
          "<b>Topic 13</b><br>Words: sheep, lambs, farm, wool, meat",
          "<b>Topic 13</b><br>Words: lambs, lamb, farm, work, have",
          "<b>Topic 13</b><br>Words: lambing, lamb, farm, lambs, animals",
          "<b>Topic 13</b><br>Words: lamb, lambs, farm, farmers, spring",
          "<b>Topic 13</b><br>Words: sheep, lambs, farm, milking, milk",
          "<b>Topic 13</b><br>Words: sheep, farm, bit, embryos, they",
          "<b>Topic 13</b><br>Words: lambs, sheep, farmers, farm, zealand",
          "<b>Topic 13</b><br>Words: sheep, lamb, lambs, farm, wool"
         ],
         "marker": {
          "color": "#CC79A7"
         },
         "mode": "lines",
         "name": "13_lambs_lamb_sheep_farm",
         "type": "scatter",
         "x": [
          "2012-09-12T00:00:00",
          "2014-04-03T00:00:00",
          "2016-08-02T00:00:00",
          "2017-05-13T00:00:00",
          "2018-02-21T00:00:00",
          "2019-09-12T00:00:00",
          "2020-06-22T00:00:00",
          "2022-10-22T00:00:00",
          "2023-08-02T00:00:00"
         ],
         "y": [
          1,
          1,
          2,
          1,
          1,
          1,
          1,
          1,
          1
         ]
        },
        {
         "hoverinfo": "text",
         "hovertext": [
          "<b>Topic 14</b><br>Words: goats, goat, sheep, hunters, animals",
          "<b>Topic 14</b><br>Words: sheep, goats, goat, farm, have",
          "<b>Topic 14</b><br>Words: goats, cows, goat, milking, milk",
          "<b>Topic 14</b><br>Words: goats, sheep, goat, fibre, farm",
          "<b>Topic 14</b><br>Words: sheep, goats, lambs, farm, milking",
          "<b>Topic 14</b><br>Words: goats, sheep, farm, goat, animals",
          "<b>Topic 14</b><br>Words: goats, goat, sheep, farm, milking",
          "<b>Topic 14</b><br>Words: goats, goat, farm, milking, milk"
         ],
         "marker": {
          "color": "#E69F00"
         },
         "mode": "lines",
         "name": "14_goats_goat_sheep_farm",
         "type": "scatter",
         "x": [
          "2013-06-23T00:00:00",
          "2015-01-12T00:00:00",
          "2015-10-23T00:00:00",
          "2017-05-13T00:00:00",
          "2018-02-21T00:00:00",
          "2018-12-02T00:00:00",
          "2021-04-02T00:00:00",
          "2023-08-02T00:00:00"
         ],
         "y": [
          1,
          1,
          1,
          1,
          1,
          3,
          1,
          1
         ]
        },
        {
         "hoverinfo": "text",
         "hovertext": [
          "<b>Topic 15</b><br>Words: muster, mustering, place, richard, smith",
          "<b>Topic 15</b><br>Words: farm, trails, country, ride, home",
          "<b>Topic 15</b><br>Words: periam, muster, cattle, place, bendigo",
          "<b>Topic 15</b><br>Words: ewans, ewan, farm, hotel, gold",
          "<b>Topic 15</b><br>Words: country, farm, terry, year, over",
          "<b>Topic 15</b><br>Words: cattle, rivers, cows, river, country",
          "<b>Topic 15</b><br>Words: pasture, farm, place, hamish, bit"
         ],
         "marker": {
          "color": "#56B4E9"
         },
         "mode": "lines",
         "name": "15_farm_muster_cattle_country",
         "type": "scatter",
         "x": [
          "2008-10-17T07:40:48",
          "2011-12-03T00:00:00",
          "2013-06-23T00:00:00",
          "2014-04-03T00:00:00",
          "2016-08-02T00:00:00",
          "2017-05-13T00:00:00",
          "2022-01-11T00:00:00"
         ],
         "y": [
          1,
          1,
          2,
          2,
          1,
          1,
          1
         ]
        },
        {
         "hoverinfo": "text",
         "hovertext": [
          "<b>Topic 16</b><br>Words: farm, eggs, organic, egg, chickens",
          "<b>Topic 16</b><br>Words: farm, organic, chickens, maize, hens",
          "<b>Topic 16</b><br>Words: chickens, chicken, organic, farm, birds",
          "<b>Topic 16</b><br>Words: farm, produce, garden, eggs, soil",
          "<b>Topic 16</b><br>Words: eggs, egg, farm, nesting, chickens",
          "<b>Topic 16</b><br>Words: eggs, farm, egg, chickens, hens"
         ],
         "marker": {
          "color": "#009E73"
         },
         "mode": "lines",
         "name": "16_farm_chickens_eggs_organic",
         "type": "scatter",
         "x": [
          "2008-10-17T07:40:48",
          "2012-09-12T00:00:00",
          "2018-02-21T00:00:00",
          "2019-09-12T00:00:00",
          "2020-06-22T00:00:00",
          "2022-01-11T00:00:00"
         ],
         "y": [
          2,
          1,
          1,
          2,
          1,
          1
         ]
        },
        {
         "hoverinfo": "text",
         "hovertext": [
          "<b>Topic 17</b><br>Words: farms, farmers, farm, farming, zealand",
          "<b>Topic 17</b><br>Words: farm, sheep, canterbury, zealand, climate",
          "<b>Topic 17</b><br>Words: sheep, farm, fishing, whaling, helicopter",
          "<b>Topic 17</b><br>Words: sheep, farm, zealand, country, keegan"
         ],
         "marker": {
          "color": "#F0E442"
         },
         "mode": "lines",
         "name": "17_sheep_farm_zealand_canterbury",
         "type": "scatter",
         "x": [
          "2008-10-17T07:40:48",
          "2013-06-23T00:00:00",
          "2014-04-03T00:00:00",
          "2015-01-12T00:00:00"
         ],
         "y": [
          2,
          2,
          2,
          1
         ]
        },
        {
         "hoverinfo": "text",
         "hovertext": [
          "<b>Topic 18</b><br>Words: scobie, wool, sheep, yarn, fabric",
          "<b>Topic 18</b><br>Words: sheep, wool, lambs, farm, zealand",
          "<b>Topic 18</b><br>Words: wool, sheep, farmers, farm, bit",
          "<b>Topic 18</b><br>Words: sheep, wool, farm, hops, bit",
          "<b>Topic 18</b><br>Words: merino, sheep, farm, zealand, wool"
         ],
         "marker": {
          "color": "#D55E00"
         },
         "mode": "lines",
         "name": "18_sheep_wool_farm_merino",
         "type": "scatter",
         "x": [
          "2014-04-03T00:00:00",
          "2018-02-21T00:00:00",
          "2018-12-02T00:00:00",
          "2022-10-22T00:00:00",
          "2023-08-02T00:00:00"
         ],
         "y": [
          1,
          1,
          1,
          3,
          1
         ]
        },
        {
         "hoverinfo": "text",
         "hovertext": [
          "<b>Topic 19</b><br>Words: music, of, all, it, catwalk",
          "<b>Topic 19</b><br>Words: music, station, land, valley, farm",
          "<b>Topic 19</b><br>Words: music, zealand, kiwi, coast, land"
         ],
         "marker": {
          "color": "#0072B2"
         },
         "mode": "lines",
         "name": "19_music_zealand_valley_land",
         "type": "scatter",
         "x": [
          "2008-10-17T07:40:48",
          "2013-06-23T00:00:00",
          "2014-04-03T00:00:00"
         ],
         "y": [
          1,
          3,
          2
         ]
        }
       ],
       "layout": {
        "height": 450,
        "hoverlabel": {
         "bgcolor": "white",
         "font": {
          "family": "Rockwell",
          "size": 16
         }
        },
        "legend": {
         "title": {
          "text": "<b>Global Topic Representation"
         }
        },
        "template": {
         "data": {
          "bar": [
           {
            "error_x": {
             "color": "rgb(36,36,36)"
            },
            "error_y": {
             "color": "rgb(36,36,36)"
            },
            "marker": {
             "line": {
              "color": "white",
              "width": 0.5
             },
             "pattern": {
              "fillmode": "overlay",
              "size": 10,
              "solidity": 0.2
             }
            },
            "type": "bar"
           }
          ],
          "barpolar": [
           {
            "marker": {
             "line": {
              "color": "white",
              "width": 0.5
             },
             "pattern": {
              "fillmode": "overlay",
              "size": 10,
              "solidity": 0.2
             }
            },
            "type": "barpolar"
           }
          ],
          "carpet": [
           {
            "aaxis": {
             "endlinecolor": "rgb(36,36,36)",
             "gridcolor": "white",
             "linecolor": "white",
             "minorgridcolor": "white",
             "startlinecolor": "rgb(36,36,36)"
            },
            "baxis": {
             "endlinecolor": "rgb(36,36,36)",
             "gridcolor": "white",
             "linecolor": "white",
             "minorgridcolor": "white",
             "startlinecolor": "rgb(36,36,36)"
            },
            "type": "carpet"
           }
          ],
          "choropleth": [
           {
            "colorbar": {
             "outlinewidth": 1,
             "tickcolor": "rgb(36,36,36)",
             "ticks": "outside"
            },
            "type": "choropleth"
           }
          ],
          "contour": [
           {
            "colorbar": {
             "outlinewidth": 1,
             "tickcolor": "rgb(36,36,36)",
             "ticks": "outside"
            },
            "colorscale": [
             [
              0,
              "#440154"
             ],
             [
              0.1111111111111111,
              "#482878"
             ],
             [
              0.2222222222222222,
              "#3e4989"
             ],
             [
              0.3333333333333333,
              "#31688e"
             ],
             [
              0.4444444444444444,
              "#26828e"
             ],
             [
              0.5555555555555556,
              "#1f9e89"
             ],
             [
              0.6666666666666666,
              "#35b779"
             ],
             [
              0.7777777777777778,
              "#6ece58"
             ],
             [
              0.8888888888888888,
              "#b5de2b"
             ],
             [
              1,
              "#fde725"
             ]
            ],
            "type": "contour"
           }
          ],
          "contourcarpet": [
           {
            "colorbar": {
             "outlinewidth": 1,
             "tickcolor": "rgb(36,36,36)",
             "ticks": "outside"
            },
            "type": "contourcarpet"
           }
          ],
          "heatmap": [
           {
            "colorbar": {
             "outlinewidth": 1,
             "tickcolor": "rgb(36,36,36)",
             "ticks": "outside"
            },
            "colorscale": [
             [
              0,
              "#440154"
             ],
             [
              0.1111111111111111,
              "#482878"
             ],
             [
              0.2222222222222222,
              "#3e4989"
             ],
             [
              0.3333333333333333,
              "#31688e"
             ],
             [
              0.4444444444444444,
              "#26828e"
             ],
             [
              0.5555555555555556,
              "#1f9e89"
             ],
             [
              0.6666666666666666,
              "#35b779"
             ],
             [
              0.7777777777777778,
              "#6ece58"
             ],
             [
              0.8888888888888888,
              "#b5de2b"
             ],
             [
              1,
              "#fde725"
             ]
            ],
            "type": "heatmap"
           }
          ],
          "heatmapgl": [
           {
            "colorbar": {
             "outlinewidth": 1,
             "tickcolor": "rgb(36,36,36)",
             "ticks": "outside"
            },
            "colorscale": [
             [
              0,
              "#440154"
             ],
             [
              0.1111111111111111,
              "#482878"
             ],
             [
              0.2222222222222222,
              "#3e4989"
             ],
             [
              0.3333333333333333,
              "#31688e"
             ],
             [
              0.4444444444444444,
              "#26828e"
             ],
             [
              0.5555555555555556,
              "#1f9e89"
             ],
             [
              0.6666666666666666,
              "#35b779"
             ],
             [
              0.7777777777777778,
              "#6ece58"
             ],
             [
              0.8888888888888888,
              "#b5de2b"
             ],
             [
              1,
              "#fde725"
             ]
            ],
            "type": "heatmapgl"
           }
          ],
          "histogram": [
           {
            "marker": {
             "line": {
              "color": "white",
              "width": 0.6
             }
            },
            "type": "histogram"
           }
          ],
          "histogram2d": [
           {
            "colorbar": {
             "outlinewidth": 1,
             "tickcolor": "rgb(36,36,36)",
             "ticks": "outside"
            },
            "colorscale": [
             [
              0,
              "#440154"
             ],
             [
              0.1111111111111111,
              "#482878"
             ],
             [
              0.2222222222222222,
              "#3e4989"
             ],
             [
              0.3333333333333333,
              "#31688e"
             ],
             [
              0.4444444444444444,
              "#26828e"
             ],
             [
              0.5555555555555556,
              "#1f9e89"
             ],
             [
              0.6666666666666666,
              "#35b779"
             ],
             [
              0.7777777777777778,
              "#6ece58"
             ],
             [
              0.8888888888888888,
              "#b5de2b"
             ],
             [
              1,
              "#fde725"
             ]
            ],
            "type": "histogram2d"
           }
          ],
          "histogram2dcontour": [
           {
            "colorbar": {
             "outlinewidth": 1,
             "tickcolor": "rgb(36,36,36)",
             "ticks": "outside"
            },
            "colorscale": [
             [
              0,
              "#440154"
             ],
             [
              0.1111111111111111,
              "#482878"
             ],
             [
              0.2222222222222222,
              "#3e4989"
             ],
             [
              0.3333333333333333,
              "#31688e"
             ],
             [
              0.4444444444444444,
              "#26828e"
             ],
             [
              0.5555555555555556,
              "#1f9e89"
             ],
             [
              0.6666666666666666,
              "#35b779"
             ],
             [
              0.7777777777777778,
              "#6ece58"
             ],
             [
              0.8888888888888888,
              "#b5de2b"
             ],
             [
              1,
              "#fde725"
             ]
            ],
            "type": "histogram2dcontour"
           }
          ],
          "mesh3d": [
           {
            "colorbar": {
             "outlinewidth": 1,
             "tickcolor": "rgb(36,36,36)",
             "ticks": "outside"
            },
            "type": "mesh3d"
           }
          ],
          "parcoords": [
           {
            "line": {
             "colorbar": {
              "outlinewidth": 1,
              "tickcolor": "rgb(36,36,36)",
              "ticks": "outside"
             }
            },
            "type": "parcoords"
           }
          ],
          "pie": [
           {
            "automargin": true,
            "type": "pie"
           }
          ],
          "scatter": [
           {
            "fillpattern": {
             "fillmode": "overlay",
             "size": 10,
             "solidity": 0.2
            },
            "type": "scatter"
           }
          ],
          "scatter3d": [
           {
            "line": {
             "colorbar": {
              "outlinewidth": 1,
              "tickcolor": "rgb(36,36,36)",
              "ticks": "outside"
             }
            },
            "marker": {
             "colorbar": {
              "outlinewidth": 1,
              "tickcolor": "rgb(36,36,36)",
              "ticks": "outside"
             }
            },
            "type": "scatter3d"
           }
          ],
          "scattercarpet": [
           {
            "marker": {
             "colorbar": {
              "outlinewidth": 1,
              "tickcolor": "rgb(36,36,36)",
              "ticks": "outside"
             }
            },
            "type": "scattercarpet"
           }
          ],
          "scattergeo": [
           {
            "marker": {
             "colorbar": {
              "outlinewidth": 1,
              "tickcolor": "rgb(36,36,36)",
              "ticks": "outside"
             }
            },
            "type": "scattergeo"
           }
          ],
          "scattergl": [
           {
            "marker": {
             "colorbar": {
              "outlinewidth": 1,
              "tickcolor": "rgb(36,36,36)",
              "ticks": "outside"
             }
            },
            "type": "scattergl"
           }
          ],
          "scattermapbox": [
           {
            "marker": {
             "colorbar": {
              "outlinewidth": 1,
              "tickcolor": "rgb(36,36,36)",
              "ticks": "outside"
             }
            },
            "type": "scattermapbox"
           }
          ],
          "scatterpolar": [
           {
            "marker": {
             "colorbar": {
              "outlinewidth": 1,
              "tickcolor": "rgb(36,36,36)",
              "ticks": "outside"
             }
            },
            "type": "scatterpolar"
           }
          ],
          "scatterpolargl": [
           {
            "marker": {
             "colorbar": {
              "outlinewidth": 1,
              "tickcolor": "rgb(36,36,36)",
              "ticks": "outside"
             }
            },
            "type": "scatterpolargl"
           }
          ],
          "scatterternary": [
           {
            "marker": {
             "colorbar": {
              "outlinewidth": 1,
              "tickcolor": "rgb(36,36,36)",
              "ticks": "outside"
             }
            },
            "type": "scatterternary"
           }
          ],
          "surface": [
           {
            "colorbar": {
             "outlinewidth": 1,
             "tickcolor": "rgb(36,36,36)",
             "ticks": "outside"
            },
            "colorscale": [
             [
              0,
              "#440154"
             ],
             [
              0.1111111111111111,
              "#482878"
             ],
             [
              0.2222222222222222,
              "#3e4989"
             ],
             [
              0.3333333333333333,
              "#31688e"
             ],
             [
              0.4444444444444444,
              "#26828e"
             ],
             [
              0.5555555555555556,
              "#1f9e89"
             ],
             [
              0.6666666666666666,
              "#35b779"
             ],
             [
              0.7777777777777778,
              "#6ece58"
             ],
             [
              0.8888888888888888,
              "#b5de2b"
             ],
             [
              1,
              "#fde725"
             ]
            ],
            "type": "surface"
           }
          ],
          "table": [
           {
            "cells": {
             "fill": {
              "color": "rgb(237,237,237)"
             },
             "line": {
              "color": "white"
             }
            },
            "header": {
             "fill": {
              "color": "rgb(217,217,217)"
             },
             "line": {
              "color": "white"
             }
            },
            "type": "table"
           }
          ]
         },
         "layout": {
          "annotationdefaults": {
           "arrowhead": 0,
           "arrowwidth": 1
          },
          "autotypenumbers": "strict",
          "coloraxis": {
           "colorbar": {
            "outlinewidth": 1,
            "tickcolor": "rgb(36,36,36)",
            "ticks": "outside"
           }
          },
          "colorscale": {
           "diverging": [
            [
             0,
             "rgb(103,0,31)"
            ],
            [
             0.1,
             "rgb(178,24,43)"
            ],
            [
             0.2,
             "rgb(214,96,77)"
            ],
            [
             0.3,
             "rgb(244,165,130)"
            ],
            [
             0.4,
             "rgb(253,219,199)"
            ],
            [
             0.5,
             "rgb(247,247,247)"
            ],
            [
             0.6,
             "rgb(209,229,240)"
            ],
            [
             0.7,
             "rgb(146,197,222)"
            ],
            [
             0.8,
             "rgb(67,147,195)"
            ],
            [
             0.9,
             "rgb(33,102,172)"
            ],
            [
             1,
             "rgb(5,48,97)"
            ]
           ],
           "sequential": [
            [
             0,
             "#440154"
            ],
            [
             0.1111111111111111,
             "#482878"
            ],
            [
             0.2222222222222222,
             "#3e4989"
            ],
            [
             0.3333333333333333,
             "#31688e"
            ],
            [
             0.4444444444444444,
             "#26828e"
            ],
            [
             0.5555555555555556,
             "#1f9e89"
            ],
            [
             0.6666666666666666,
             "#35b779"
            ],
            [
             0.7777777777777778,
             "#6ece58"
            ],
            [
             0.8888888888888888,
             "#b5de2b"
            ],
            [
             1,
             "#fde725"
            ]
           ],
           "sequentialminus": [
            [
             0,
             "#440154"
            ],
            [
             0.1111111111111111,
             "#482878"
            ],
            [
             0.2222222222222222,
             "#3e4989"
            ],
            [
             0.3333333333333333,
             "#31688e"
            ],
            [
             0.4444444444444444,
             "#26828e"
            ],
            [
             0.5555555555555556,
             "#1f9e89"
            ],
            [
             0.6666666666666666,
             "#35b779"
            ],
            [
             0.7777777777777778,
             "#6ece58"
            ],
            [
             0.8888888888888888,
             "#b5de2b"
            ],
            [
             1,
             "#fde725"
            ]
           ]
          },
          "colorway": [
           "#1F77B4",
           "#FF7F0E",
           "#2CA02C",
           "#D62728",
           "#9467BD",
           "#8C564B",
           "#E377C2",
           "#7F7F7F",
           "#BCBD22",
           "#17BECF"
          ],
          "font": {
           "color": "rgb(36,36,36)"
          },
          "geo": {
           "bgcolor": "white",
           "lakecolor": "white",
           "landcolor": "white",
           "showlakes": true,
           "showland": true,
           "subunitcolor": "white"
          },
          "hoverlabel": {
           "align": "left"
          },
          "hovermode": "closest",
          "mapbox": {
           "style": "light"
          },
          "paper_bgcolor": "white",
          "plot_bgcolor": "white",
          "polar": {
           "angularaxis": {
            "gridcolor": "rgb(232,232,232)",
            "linecolor": "rgb(36,36,36)",
            "showgrid": false,
            "showline": true,
            "ticks": "outside"
           },
           "bgcolor": "white",
           "radialaxis": {
            "gridcolor": "rgb(232,232,232)",
            "linecolor": "rgb(36,36,36)",
            "showgrid": false,
            "showline": true,
            "ticks": "outside"
           }
          },
          "scene": {
           "xaxis": {
            "backgroundcolor": "white",
            "gridcolor": "rgb(232,232,232)",
            "gridwidth": 2,
            "linecolor": "rgb(36,36,36)",
            "showbackground": true,
            "showgrid": false,
            "showline": true,
            "ticks": "outside",
            "zeroline": false,
            "zerolinecolor": "rgb(36,36,36)"
           },
           "yaxis": {
            "backgroundcolor": "white",
            "gridcolor": "rgb(232,232,232)",
            "gridwidth": 2,
            "linecolor": "rgb(36,36,36)",
            "showbackground": true,
            "showgrid": false,
            "showline": true,
            "ticks": "outside",
            "zeroline": false,
            "zerolinecolor": "rgb(36,36,36)"
           },
           "zaxis": {
            "backgroundcolor": "white",
            "gridcolor": "rgb(232,232,232)",
            "gridwidth": 2,
            "linecolor": "rgb(36,36,36)",
            "showbackground": true,
            "showgrid": false,
            "showline": true,
            "ticks": "outside",
            "zeroline": false,
            "zerolinecolor": "rgb(36,36,36)"
           }
          },
          "shapedefaults": {
           "fillcolor": "black",
           "line": {
            "width": 0
           },
           "opacity": 0.3
          },
          "ternary": {
           "aaxis": {
            "gridcolor": "rgb(232,232,232)",
            "linecolor": "rgb(36,36,36)",
            "showgrid": false,
            "showline": true,
            "ticks": "outside"
           },
           "baxis": {
            "gridcolor": "rgb(232,232,232)",
            "linecolor": "rgb(36,36,36)",
            "showgrid": false,
            "showline": true,
            "ticks": "outside"
           },
           "bgcolor": "white",
           "caxis": {
            "gridcolor": "rgb(232,232,232)",
            "linecolor": "rgb(36,36,36)",
            "showgrid": false,
            "showline": true,
            "ticks": "outside"
           }
          },
          "title": {
           "x": 0.05
          },
          "xaxis": {
           "automargin": true,
           "gridcolor": "rgb(232,232,232)",
           "linecolor": "rgb(36,36,36)",
           "showgrid": false,
           "showline": true,
           "ticks": "outside",
           "title": {
            "standoff": 15
           },
           "zeroline": false,
           "zerolinecolor": "rgb(36,36,36)"
          },
          "yaxis": {
           "automargin": true,
           "gridcolor": "rgb(232,232,232)",
           "linecolor": "rgb(36,36,36)",
           "showgrid": false,
           "showline": true,
           "ticks": "outside",
           "title": {
            "standoff": 15
           },
           "zeroline": false,
           "zerolinecolor": "rgb(36,36,36)"
          }
         }
        },
        "title": {
         "font": {
          "color": "Black",
          "size": 22
         },
         "text": "<b>Topics over Time</b>",
         "x": 0.4,
         "xanchor": "center",
         "y": 0.95,
         "yanchor": "top"
        },
        "width": 1250,
        "xaxis": {
         "showgrid": true
        },
        "yaxis": {
         "showgrid": true,
         "title": {
          "text": "Frequency"
         }
        }
       }
      },
      "text/html": [
       "<div>                            <div id=\"675aa382-f626-4b19-b19c-19aaff56a290\" class=\"plotly-graph-div\" style=\"height:450px; width:1250px;\"></div>            <script type=\"text/javascript\">                require([\"plotly\"], function(Plotly) {                    window.PLOTLYENV=window.PLOTLYENV || {};                                    if (document.getElementById(\"675aa382-f626-4b19-b19c-19aaff56a290\")) {                    Plotly.newPlot(                        \"675aa382-f626-4b19-b19c-19aaff56a290\",                        [{\"hoverinfo\":\"text\",\"hovertext\":[\"\\u003cb\\u003eTopic 0\\u003c\\u002fb\\u003e\\u003cbr\\u003eWords: cows, farm, cow, milking, farming\",\"\\u003cb\\u003eTopic 0\\u003c\\u002fb\\u003e\\u003cbr\\u003eWords: mozzarella, cheese, buffalo, clevedon, cows\",\"\\u003cb\\u003eTopic 0\\u003c\\u002fb\\u003e\\u003cbr\\u003eWords: farm, land, goats, valley, boulders\",\"\\u003cb\\u003eTopic 0\\u003c\\u002fb\\u003e\\u003cbr\\u003eWords: chooks, farming, farm, cows, dairy\",\"\\u003cb\\u003eTopic 0\\u003c\\u002fb\\u003e\\u003cbr\\u003eWords: cows, farm, farming, life, weve\",\"\\u003cb\\u003eTopic 0\\u003c\\u002fb\\u003e\\u003cbr\\u003eWords: dairy, cows, milk, farm, cheese\",\"\\u003cb\\u003eTopic 0\\u003c\\u002fb\\u003e\\u003cbr\\u003eWords: cattle, cows, milking, farm, water\",\"\\u003cb\\u003eTopic 0\\u003c\\u002fb\\u003e\\u003cbr\\u003eWords: cows, farm, milk, cheese, family\",\"\\u003cb\\u003eTopic 0\\u003c\\u002fb\\u003e\\u003cbr\\u003eWords: cows, milking, dairy, milk, farm\",\"\\u003cb\\u003eTopic 0\\u003c\\u002fb\\u003e\\u003cbr\\u003eWords: cows, cow, farm, milk, bulls\",\"\\u003cb\\u003eTopic 0\\u003c\\u002fb\\u003e\\u003cbr\\u003eWords: cows, farm, calves, beef, milk\",\"\\u003cb\\u003eTopic 0\\u003c\\u002fb\\u003e\\u003cbr\\u003eWords: dairy, cows, farm, milk, food\",\"\\u003cb\\u003eTopic 0\\u003c\\u002fb\\u003e\\u003cbr\\u003eWords: cows, calves, farm, dairy, farming\",\"\\u003cb\\u003eTopic 0\\u003c\\u002fb\\u003e\\u003cbr\\u003eWords: cows, farm, farming, dairy, milk\",\"\\u003cb\\u003eTopic 0\\u003c\\u002fb\\u003e\\u003cbr\\u003eWords: farm, dairy, milk, cows, make\",\"\\u003cb\\u003eTopic 0\\u003c\\u002fb\\u003e\\u003cbr\\u003eWords: cow, whenua, cows, milking, farm\",\"\\u003cb\\u003eTopic 0\\u003c\\u002fb\\u003e\\u003cbr\\u003eWords: cows, farm, farming, milk, cheese\",\"\\u003cb\\u003eTopic 0\\u003c\\u002fb\\u003e\\u003cbr\\u003eWords: farm, cows, farming, calf, milk\"],\"marker\":{\"color\":\"#E69F00\"},\"mode\":\"lines\",\"name\":\"0_cows_farm_milk_make\",\"x\":[\"2008-10-17T07:40:48\",\"2009-08-03T00:00:00\",\"2010-05-14T00:00:00\",\"2011-12-03T00:00:00\",\"2012-09-12T00:00:00\",\"2013-06-23T00:00:00\",\"2014-04-03T00:00:00\",\"2015-01-12T00:00:00\",\"2016-08-02T00:00:00\",\"2017-05-13T00:00:00\",\"2018-02-21T00:00:00\",\"2018-12-02T00:00:00\",\"2019-09-12T00:00:00\",\"2020-06-22T00:00:00\",\"2021-04-02T00:00:00\",\"2022-01-11T00:00:00\",\"2022-10-22T00:00:00\",\"2023-08-02T00:00:00\"],\"y\":[2,1,1,1,3,2,2,5,5,4,6,3,1,1,4,1,7,1],\"type\":\"scatter\"},{\"hoverinfo\":\"text\",\"hovertext\":[\"\\u003cb\\u003eTopic 1\\u003c\\u002fb\\u003e\\u003cbr\\u003eWords: fruit, yunnan, peas, seeds, pea\",\"\\u003cb\\u003eTopic 1\\u003c\\u002fb\\u003e\\u003cbr\\u003eWords: chinese, growers, fruit, orchard, grow\",\"\\u003cb\\u003eTopic 1\\u003c\\u002fb\\u003e\\u003cbr\\u003eWords: avocados, orchard, avocado, trees, tree\",\"\\u003cb\\u003eTopic 1\\u003c\\u002fb\\u003e\\u003cbr\\u003eWords: trees, planting, timber, seed, fruit\",\"\\u003cb\\u003eTopic 1\\u003c\\u002fb\\u003e\\u003cbr\\u003eWords: fruit, orchard, nuts, growing, nut\",\"\\u003cb\\u003eTopic 1\\u003c\\u002fb\\u003e\\u003cbr\\u003eWords: fruit, orchard, trees, mushrooms, things\",\"\\u003cb\\u003eTopic 1\\u003c\\u002fb\\u003e\\u003cbr\\u003eWords: fruit, orchard, trees, things, family\",\"\\u003cb\\u003eTopic 1\\u003c\\u002fb\\u003e\\u003cbr\\u003eWords: fruit, avocado, orchard, farm, marmalade\",\"\\u003cb\\u003eTopic 1\\u003c\\u002fb\\u003e\\u003cbr\\u003eWords: fruit, trees, orchard, tree, zealand\",\"\\u003cb\\u003eTopic 1\\u003c\\u002fb\\u003e\\u003cbr\\u003eWords: walnuts, orchard, trees, fruit, nuts\",\"\\u003cb\\u003eTopic 1\\u003c\\u002fb\\u003e\\u003cbr\\u003eWords: orchard, fruit, pine, trees, tree\",\"\\u003cb\\u003eTopic 1\\u003c\\u002fb\\u003e\\u003cbr\\u003eWords: fruit, persimmons, orchard, milking, milk\",\"\\u003cb\\u003eTopic 1\\u003c\\u002fb\\u003e\\u003cbr\\u003eWords: fruit, orchard, trees, tree, juice\",\"\\u003cb\\u003eTopic 1\\u003c\\u002fb\\u003e\\u003cbr\\u003eWords: walnut, walnuts, pineapple, pineapples, orchard\",\"\\u003cb\\u003eTopic 1\\u003c\\u002fb\\u003e\\u003cbr\\u003eWords: citrus, fruit, lemons, avocados, growing\",\"\\u003cb\\u003eTopic 1\\u003c\\u002fb\\u003e\\u003cbr\\u003eWords: orchard, fruit, trees, little, around\"],\"marker\":{\"color\":\"#56B4E9\"},\"mode\":\"lines\",\"name\":\"1_fruit_orchard_trees_tree\",\"x\":[\"2008-10-17T07:40:48\",\"2009-08-03T00:00:00\",\"2012-09-12T00:00:00\",\"2013-06-23T00:00:00\",\"2014-04-03T00:00:00\",\"2015-01-12T00:00:00\",\"2016-08-02T00:00:00\",\"2017-05-13T00:00:00\",\"2018-02-21T00:00:00\",\"2018-12-02T00:00:00\",\"2019-09-12T00:00:00\",\"2020-06-22T00:00:00\",\"2021-04-02T00:00:00\",\"2022-01-11T00:00:00\",\"2022-10-22T00:00:00\",\"2023-08-02T00:00:00\"],\"y\":[2,1,1,2,2,5,2,3,3,2,3,1,6,2,2,3],\"type\":\"scatter\"},{\"hoverinfo\":\"text\",\"hovertext\":[\"\\u003cb\\u003eTopic 2\\u003c\\u002fb\\u003e\\u003cbr\\u003eWords: fishing, boat, fish, boats, sea\",\"\\u003cb\\u003eTopic 2\\u003c\\u002fb\\u003e\\u003cbr\\u003eWords: been, about, day, weve, what\",\"\\u003cb\\u003eTopic 2\\u003c\\u002fb\\u003e\\u003cbr\\u003eWords: fishing, fish, harbour, catch, brian\",\"\\u003cb\\u003eTopic 2\\u003c\\u002fb\\u003e\\u003cbr\\u003eWords: shellfish, fishing, sea, fish, seaweed\",\"\\u003cb\\u003eTopic 2\\u003c\\u002fb\\u003e\\u003cbr\\u003eWords: fishing, flounders, flounder, fish, joel\",\"\\u003cb\\u003eTopic 2\\u003c\\u002fb\\u003e\\u003cbr\\u003eWords: fishing, fish, mussels, mussel, water\",\"\\u003cb\\u003eTopic 2\\u003c\\u002fb\\u003e\\u003cbr\\u003eWords: fishing, boat, fish, catch, work\",\"\\u003cb\\u003eTopic 2\\u003c\\u002fb\\u003e\\u003cbr\\u003eWords: oyster, oysters, farm, island, fishing\",\"\\u003cb\\u003eTopic 2\\u003c\\u002fb\\u003e\\u003cbr\\u003eWords: fishing, fish, crayfish, freshwater, boat\",\"\\u003cb\\u003eTopic 2\\u003c\\u002fb\\u003e\\u003cbr\\u003eWords: fishing, fish, boat, crayfish, cod\",\"\\u003cb\\u003eTopic 2\\u003c\\u002fb\\u003e\\u003cbr\\u003eWords: fishing, fish, island, crabbing, kapiti\",\"\\u003cb\\u003eTopic 2\\u003c\\u002fb\\u003e\\u003cbr\\u003eWords: fishing, sea, fish, boat, island\",\"\\u003cb\\u003eTopic 2\\u003c\\u002fb\\u003e\\u003cbr\\u003eWords: seaweed, sea, ocean, zealand, fish\"],\"marker\":{\"color\":\"#009E73\"},\"mode\":\"lines\",\"name\":\"2_fishing_fish_boat_catch\",\"x\":[\"2008-10-17T07:40:48\",\"2010-05-14T00:00:00\",\"2013-06-23T00:00:00\",\"2014-04-03T00:00:00\",\"2015-01-12T00:00:00\",\"2015-10-23T00:00:00\",\"2016-08-02T00:00:00\",\"2017-05-13T00:00:00\",\"2018-02-21T00:00:00\",\"2019-09-12T00:00:00\",\"2020-06-22T00:00:00\",\"2022-01-11T00:00:00\",\"2022-10-22T00:00:00\"],\"y\":[1,1,1,4,1,3,3,1,4,2,1,3,1],\"type\":\"scatter\"},{\"hoverinfo\":\"text\",\"hovertext\":[\"\\u003cb\\u003eTopic 3\\u003c\\u002fb\\u003e\\u003cbr\\u003eWords: farming, farm, penguins, penguin, tourism\",\"\\u003cb\\u003eTopic 3\\u003c\\u002fb\\u003e\\u003cbr\\u003eWords: farm, farming, weve, us, place\",\"\\u003cb\\u003eTopic 3\\u003c\\u002fb\\u003e\\u003cbr\\u003eWords: farm, nick, work, job, stock\",\"\\u003cb\\u003eTopic 3\\u003c\\u002fb\\u003e\\u003cbr\\u003eWords: farm, farming, castle, owners, closeburn\",\"\\u003cb\\u003eTopic 3\\u003c\\u002fb\\u003e\\u003cbr\\u003eWords: farm, home, instruments, ha, very\",\"\\u003cb\\u003eTopic 3\\u003c\\u002fb\\u003e\\u003cbr\\u003eWords: island, barrier, farm, soil, bamboo\",\"\\u003cb\\u003eTopic 3\\u003c\\u002fb\\u003e\\u003cbr\\u003eWords: farm, deer, wetlands, wetland, conservation\",\"\\u003cb\\u003eTopic 3\\u003c\\u002fb\\u003e\\u003cbr\\u003eWords: farms, farm, land, onuku, money\",\"\\u003cb\\u003eTopic 3\\u003c\\u002fb\\u003e\\u003cbr\\u003eWords: wetlands, wetland, farm, waituna, place\",\"\\u003cb\\u003eTopic 3\\u003c\\u002fb\\u003e\\u003cbr\\u003eWords: farm, sheep, lambs, shed, lamb\",\"\\u003cb\\u003eTopic 3\\u003c\\u002fb\\u003e\\u003cbr\\u003eWords: farm, cattle, family, place, going\",\"\\u003cb\\u003eTopic 3\\u003c\\u002fb\\u003e\\u003cbr\\u003eWords: farm, sheep, shireen, conservation, ha\",\"\\u003cb\\u003eTopic 3\\u003c\\u002fb\\u003e\\u003cbr\\u003eWords: farm, farming, sheep, travis, weve\",\"\\u003cb\\u003eTopic 3\\u003c\\u002fb\\u003e\\u003cbr\\u003eWords: farm, planting, trees, things, bit\"],\"marker\":{\"color\":\"#F0E442\"},\"mode\":\"lines\",\"name\":\"3_farm_farming_country_weve\",\"x\":[\"2008-10-17T07:40:48\",\"2011-02-22T00:00:00\",\"2012-09-12T00:00:00\",\"2013-06-23T00:00:00\",\"2014-04-03T00:00:00\",\"2015-10-23T00:00:00\",\"2016-08-02T00:00:00\",\"2018-02-21T00:00:00\",\"2018-12-02T00:00:00\",\"2019-09-12T00:00:00\",\"2020-06-22T00:00:00\",\"2021-04-02T00:00:00\",\"2022-01-11T00:00:00\",\"2022-10-22T00:00:00\"],\"y\":[1,1,1,2,2,1,2,1,1,1,4,1,3,2],\"type\":\"scatter\"},{\"hoverinfo\":\"text\",\"hovertext\":[\"\\u003cb\\u003eTopic 4\\u003c\\u002fb\\u003e\\u003cbr\\u003eWords: vanilla, vanillas, zealand, what, years\",\"\\u003cb\\u003eTopic 4\\u003c\\u002fb\\u003e\\u003cbr\\u003eWords: going, farm, home, work, be\",\"\\u003cb\\u003eTopic 4\\u003c\\u002fb\\u003e\\u003cbr\\u003eWords: hunting, hunters, hills, going, jason\",\"\\u003cb\\u003eTopic 4\\u003c\\u002fb\\u003e\\u003cbr\\u003eWords: harbour, kaipara, fishing, fish, flounder\",\"\\u003cb\\u003eTopic 4\\u003c\\u002fb\\u003e\\u003cbr\\u003eWords: farm, river, shed, home, country\",\"\\u003cb\\u003eTopic 4\\u003c\\u002fb\\u003e\\u003cbr\\u003eWords: place, going, farm, go, country\",\"\\u003cb\\u003eTopic 4\\u003c\\u002fb\\u003e\\u003cbr\\u003eWords: zealand, flowers, home, going, country\",\"\\u003cb\\u003eTopic 4\\u003c\\u002fb\\u003e\\u003cbr\\u003eWords: farm, home, going, milk, doing\",\"\\u003cb\\u003eTopic 4\\u003c\\u002fb\\u003e\\u003cbr\\u003eWords: marlborough, mussels, mussel, oysters, farm\",\"\\u003cb\\u003eTopic 4\\u003c\\u002fb\\u003e\\u003cbr\\u003eWords: farm, truffle, home, going, things\",\"\\u003cb\\u003eTopic 4\\u003c\\u002fb\\u003e\\u003cbr\\u003eWords: boat, farm, truffle, truffles, going\",\"\\u003cb\\u003eTopic 4\\u003c\\u002fb\\u003e\\u003cbr\\u003eWords: dogs, dog, trialling, farm, home\",\"\\u003cb\\u003eTopic 4\\u003c\\u002fb\\u003e\\u003cbr\\u003eWords: cyclone, farm, coast, country, east\"],\"marker\":{\"color\":\"#D55E00\"},\"mode\":\"lines\",\"name\":\"4_farm_home_going_pretty\",\"x\":[\"2011-12-03T00:00:00\",\"2013-06-23T00:00:00\",\"2014-04-03T00:00:00\",\"2015-01-12T00:00:00\",\"2015-10-23T00:00:00\",\"2018-02-21T00:00:00\",\"2018-12-02T00:00:00\",\"2019-09-12T00:00:00\",\"2020-06-22T00:00:00\",\"2021-04-02T00:00:00\",\"2022-01-11T00:00:00\",\"2022-10-22T00:00:00\",\"2023-08-02T00:00:00\"],\"y\":[1,3,1,1,1,1,3,2,1,3,3,1,2],\"type\":\"scatter\"},{\"hoverinfo\":\"text\",\"hovertext\":[\"\\u003cb\\u003eTopic 5\\u003c\\u002fb\\u003e\\u003cbr\\u003eWords: dogs, dog, sheep, farm, davids\",\"\\u003cb\\u003eTopic 5\\u003c\\u002fb\\u003e\\u003cbr\\u003eWords: farmer, farm, denise, dog, dogs\",\"\\u003cb\\u003eTopic 5\\u003c\\u002fb\\u003e\\u003cbr\\u003eWords: family, life, work, do, them\",\"\\u003cb\\u003eTopic 5\\u003c\\u002fb\\u003e\\u003cbr\\u003eWords: home, farm, work, farmers, dog\",\"\\u003cb\\u003eTopic 5\\u003c\\u002fb\\u003e\\u003cbr\\u003eWords: farm, farming, deer, horse, work\",\"\\u003cb\\u003eTopic 5\\u003c\\u002fb\\u003e\\u003cbr\\u003eWords: deer, farm, dogs, helicopter, tim\",\"\\u003cb\\u003eTopic 5\\u003c\\u002fb\\u003e\\u003cbr\\u003eWords: helicopter, farm, family, matt, newton\",\"\\u003cb\\u003eTopic 5\\u003c\\u002fb\\u003e\\u003cbr\\u003eWords: sheep, farm, horses, dogs, her\",\"\\u003cb\\u003eTopic 5\\u003c\\u002fb\\u003e\\u003cbr\\u003eWords: farm, sheep, deer, dogs, dog\",\"\\u003cb\\u003eTopic 5\\u003c\\u002fb\\u003e\\u003cbr\\u003eWords: farm, pigs, prisoners, piggery, bit\",\"\\u003cb\\u003eTopic 5\\u003c\\u002fb\\u003e\\u003cbr\\u003eWords: dogs, dog, horse, tania, farm\",\"\\u003cb\\u003eTopic 5\\u003c\\u002fb\\u003e\\u003cbr\\u003eWords: farm, deer, milk, minnow, bit\",\"\\u003cb\\u003eTopic 5\\u003c\\u002fb\\u003e\\u003cbr\\u003eWords: farmer, farm, work, job, lisa\",\"\\u003cb\\u003eTopic 5\\u003c\\u002fb\\u003e\\u003cbr\\u003eWords: farm, bit, work, always, around\",\"\\u003cb\\u003eTopic 5\\u003c\\u002fb\\u003e\\u003cbr\\u003eWords: potatoes, farm, potato, bags, spuds\",\"\\u003cb\\u003eTopic 5\\u003c\\u002fb\\u003e\\u003cbr\\u003eWords: farm, farming, mum, kids, dogs\",\"\\u003cb\\u003eTopic 5\\u003c\\u002fb\\u003e\\u003cbr\\u003eWords: vet, mares, foaling, mare, farm\"],\"marker\":{\"color\":\"#0072B2\"},\"mode\":\"lines\",\"name\":\"5_farm_dogs_deer_work\",\"x\":[\"2008-10-17T07:40:48\",\"2010-05-14T00:00:00\",\"2011-12-03T00:00:00\",\"2012-09-12T00:00:00\",\"2013-06-23T00:00:00\",\"2014-04-03T00:00:00\",\"2015-01-12T00:00:00\",\"2015-10-23T00:00:00\",\"2016-08-02T00:00:00\",\"2017-05-13T00:00:00\",\"2018-02-21T00:00:00\",\"2018-12-02T00:00:00\",\"2019-09-12T00:00:00\",\"2020-06-22T00:00:00\",\"2021-04-02T00:00:00\",\"2022-10-22T00:00:00\",\"2023-08-02T00:00:00\"],\"y\":[1,1,1,1,1,2,1,1,2,1,1,2,1,2,1,1,1],\"type\":\"scatter\"},{\"hoverinfo\":\"text\",\"hovertext\":[\"\\u003cb\\u003eTopic 6\\u003c\\u002fb\\u003e\\u003cbr\\u003eWords: horse, horsemanship, horses, saddle, riding\",\"\\u003cb\\u003eTopic 6\\u003c\\u002fb\\u003e\\u003cbr\\u003eWords: horse, horses, farm, snow, donna\",\"\\u003cb\\u003eTopic 6\\u003c\\u002fb\\u003e\\u003cbr\\u003eWords: horses, horse, riding, farm, going\",\"\\u003cb\\u003eTopic 6\\u003c\\u002fb\\u003e\\u003cbr\\u003eWords: horses, horse, farm, janine, going\",\"\\u003cb\\u003eTopic 6\\u003c\\u002fb\\u003e\\u003cbr\\u003eWords: horse, horses, riding, ride, gavin\",\"\\u003cb\\u003eTopic 6\\u003c\\u002fb\\u003e\\u003cbr\\u003eWords: horses, horse, farm, ride, frasers\",\"\\u003cb\\u003eTopic 6\\u003c\\u002fb\\u003e\\u003cbr\\u003eWords: horses, horse, cattle, farm, riding\",\"\\u003cb\\u003eTopic 6\\u003c\\u002fb\\u003e\\u003cbr\\u003eWords: horses, horse, going, to, work\",\"\\u003cb\\u003eTopic 6\\u003c\\u002fb\\u003e\\u003cbr\\u003eWords: horse, horses, farm, sheep, going\",\"\\u003cb\\u003eTopic 6\\u003c\\u002fb\\u003e\\u003cbr\\u003eWords: horse, horses, farm, irish, very\"],\"marker\":{\"color\":\"#CC79A7\"},\"mode\":\"lines\",\"name\":\"6_horse_horses_riding_farm\",\"x\":[\"2009-08-03T00:00:00\",\"2012-09-12T00:00:00\",\"2014-04-03T00:00:00\",\"2015-01-12T00:00:00\",\"2015-10-23T00:00:00\",\"2016-08-02T00:00:00\",\"2017-05-13T00:00:00\",\"2018-12-02T00:00:00\",\"2019-09-12T00:00:00\",\"2022-01-11T00:00:00\"],\"y\":[1,2,4,2,1,1,2,1,2,2],\"type\":\"scatter\"},{\"hoverinfo\":\"text\",\"hovertext\":[\"\\u003cb\\u003eTopic 7\\u003c\\u002fb\\u003e\\u003cbr\\u003eWords: competition, farm, work, wool, going\",\"\\u003cb\\u003eTopic 7\\u003c\\u002fb\\u003e\\u003cbr\\u003eWords: going, farm, work, rog, weve\",\"\\u003cb\\u003eTopic 7\\u003c\\u002fb\\u003e\\u003cbr\\u003eWords: horses, horse, kingi, ride, farm\",\"\\u003cb\\u003eTopic 7\\u003c\\u002fb\\u003e\\u003cbr\\u003eWords: farm, going, sheep, day, get\",\"\\u003cb\\u003eTopic 7\\u003c\\u002fb\\u003e\\u003cbr\\u003eWords: simon, going, bit, we, what\",\"\\u003cb\\u003eTopic 7\\u003c\\u002fb\\u003e\\u003cbr\\u003eWords: cattle, sheep, farm, bit, what\",\"\\u003cb\\u003eTopic 7\\u003c\\u002fb\\u003e\\u003cbr\\u003eWords: farmers, sheep, farm, wool, going\",\"\\u003cb\\u003eTopic 7\\u003c\\u002fb\\u003e\\u003cbr\\u003eWords: going, are, record, weve, farm\",\"\\u003cb\\u003eTopic 7\\u003c\\u002fb\\u003e\\u003cbr\\u003eWords: sheep, farm, laura, bit, going\",\"\\u003cb\\u003eTopic 7\\u003c\\u002fb\\u003e\\u003cbr\\u003eWords: farm, lambs, wool, hills, zealand\"],\"marker\":{\"color\":\"#E69F00\"},\"mode\":\"lines\",\"name\":\"7_farm_going_bit_weve\",\"x\":[\"2010-05-14T00:00:00\",\"2014-04-03T00:00:00\",\"2015-01-12T00:00:00\",\"2015-10-23T00:00:00\",\"2016-08-02T00:00:00\",\"2017-05-13T00:00:00\",\"2018-12-02T00:00:00\",\"2019-09-12T00:00:00\",\"2020-06-22T00:00:00\",\"2022-01-11T00:00:00\"],\"y\":[1,1,1,5,1,1,1,2,2,1],\"type\":\"scatter\"},{\"hoverinfo\":\"text\",\"hovertext\":[\"\\u003cb\\u003eTopic 8\\u003c\\u002fb\\u003e\\u003cbr\\u003eWords: vineyards, vineyard, wines, grapes, wine\",\"\\u003cb\\u003eTopic 8\\u003c\\u002fb\\u003e\\u003cbr\\u003eWords: winery, winemaking, vineyards, wines, vineyard\",\"\\u003cb\\u003eTopic 8\\u003c\\u002fb\\u003e\\u003cbr\\u003eWords: winemaking, wines, vineyard, wine, grapes\",\"\\u003cb\\u003eTopic 8\\u003c\\u002fb\\u003e\\u003cbr\\u003eWords: winery, wines, wine, vineyards, vineyard\",\"\\u003cb\\u003eTopic 8\\u003c\\u002fb\\u003e\\u003cbr\\u003eWords: vineyard, winery, wines, grapes, wine\",\"\\u003cb\\u003eTopic 8\\u003c\\u002fb\\u003e\\u003cbr\\u003eWords: vineyard, grapes, wines, wine, harvest\",\"\\u003cb\\u003eTopic 8\\u003c\\u002fb\\u003e\\u003cbr\\u003eWords: vineyards, vineyard, winery, grapes, wines\",\"\\u003cb\\u003eTopic 8\\u003c\\u002fb\\u003e\\u003cbr\\u003eWords: vineyard, wines, wine, grapes, pinot\"],\"marker\":{\"color\":\"#56B4E9\"},\"mode\":\"lines\",\"name\":\"8_winery_vineyard_wines_wine\",\"x\":[\"2008-10-17T07:40:48\",\"2011-12-03T00:00:00\",\"2013-06-23T00:00:00\",\"2016-08-02T00:00:00\",\"2017-05-13T00:00:00\",\"2018-02-21T00:00:00\",\"2021-04-02T00:00:00\",\"2022-01-11T00:00:00\"],\"y\":[2,1,4,1,3,2,1,1],\"type\":\"scatter\"},{\"hoverinfo\":\"text\",\"hovertext\":[\"\\u003cb\\u003eTopic 9\\u003c\\u002fb\\u003e\\u003cbr\\u003eWords: crops, growers, vegetable, grow, growing\",\"\\u003cb\\u003eTopic 9\\u003c\\u002fb\\u003e\\u003cbr\\u003eWords: farm, alpacas, fibre, getting, country\",\"\\u003cb\\u003eTopic 9\\u003c\\u002fb\\u003e\\u003cbr\\u003eWords: vegetable, harvest, produce, grow, growing\",\"\\u003cb\\u003eTopic 9\\u003c\\u002fb\\u003e\\u003cbr\\u003eWords: garden, plants, grow, growing, soil\",\"\\u003cb\\u003eTopic 9\\u003c\\u002fb\\u003e\\u003cbr\\u003eWords: tamarillo, tamarillos, orchard, growers, grow\",\"\\u003cb\\u003eTopic 9\\u003c\\u002fb\\u003e\\u003cbr\\u003eWords: day, water, going, very, more\",\"\\u003cb\\u003eTopic 9\\u003c\\u002fb\\u003e\\u003cbr\\u003eWords: flowers, plants, vegetables, day, growing\"],\"marker\":{\"color\":\"#009E73\"},\"mode\":\"lines\",\"name\":\"9_grow_growing_going_make\",\"x\":[\"2008-10-17T07:40:48\",\"2015-01-12T00:00:00\",\"2020-06-22T00:00:00\",\"2021-04-02T00:00:00\",\"2022-01-11T00:00:00\",\"2022-10-22T00:00:00\",\"2023-08-02T00:00:00\"],\"y\":[1,2,2,4,1,1,2],\"type\":\"scatter\"},{\"hoverinfo\":\"text\",\"hovertext\":[\"\\u003cb\\u003eTopic 10\\u003c\\u002fb\\u003e\\u003cbr\\u003eWords: beekeeping, beekeepers, bees, bee, hive\",\"\\u003cb\\u003eTopic 10\\u003c\\u002fb\\u003e\\u003cbr\\u003eWords: bees, beekeeper, bee, hive, hives\",\"\\u003cb\\u003eTopic 10\\u003c\\u002fb\\u003e\\u003cbr\\u003eWords: bees, beekeeping, manuka, honey, hive\",\"\\u003cb\\u003eTopic 10\\u003c\\u002fb\\u003e\\u003cbr\\u003eWords: beekeeping, beekeeper, bee, bees, manuka\",\"\\u003cb\\u003eTopic 10\\u003c\\u002fb\\u003e\\u003cbr\\u003eWords: hive, hives, bees, beekeeping, bee\",\"\\u003cb\\u003eTopic 10\\u003c\\u002fb\\u003e\\u003cbr\\u003eWords: bees, hive, manuka, hives, honey\",\"\\u003cb\\u003eTopic 10\\u003c\\u002fb\\u003e\\u003cbr\\u003eWords: beekeeping, bee, bees, hive, hives\",\"\\u003cb\\u003eTopic 10\\u003c\\u002fb\\u003e\\u003cbr\\u003eWords: bees, beekeeping, bee, hive, hives\",\"\\u003cb\\u003eTopic 10\\u003c\\u002fb\\u003e\\u003cbr\\u003eWords: beekeeping, beekeepers, bees, bee, hive\"],\"marker\":{\"color\":\"#F0E442\"},\"mode\":\"lines\",\"name\":\"10_beekeeping_bees_bee_hive\",\"x\":[\"2009-08-03T00:00:00\",\"2014-04-03T00:00:00\",\"2017-05-13T00:00:00\",\"2018-02-21T00:00:00\",\"2018-12-02T00:00:00\",\"2019-09-12T00:00:00\",\"2021-04-02T00:00:00\",\"2022-01-11T00:00:00\",\"2023-08-02T00:00:00\"],\"y\":[1,1,1,2,1,3,2,1,1],\"type\":\"scatter\"},{\"hoverinfo\":\"text\",\"hovertext\":[\"\\u003cb\\u003eTopic 11\\u003c\\u002fb\\u003e\\u003cbr\\u003eWords: island, vanuatu, pacific, zealand, vila\",\"\\u003cb\\u003eTopic 11\\u003c\\u002fb\\u003e\\u003cbr\\u003eWords: visitors, home, get, all, very\",\"\\u003cb\\u003eTopic 11\\u003c\\u002fb\\u003e\\u003cbr\\u003eWords: tony, day, we, think, much\",\"\\u003cb\\u003eTopic 11\\u003c\\u002fb\\u003e\\u003cbr\\u003eWords: zealand, showers, island, day, all\",\"\\u003cb\\u003eTopic 11\\u003c\\u002fb\\u003e\\u003cbr\\u003eWords: rivers, island, river, boat, brownie\",\"\\u003cb\\u003eTopic 11\\u003c\\u002fb\\u003e\\u003cbr\\u003eWords: stewart, island, mussels, mussel, barge\",\"\\u003cb\\u003eTopic 11\\u003c\\u002fb\\u003e\\u003cbr\\u003eWords: stewart, island, mussels, mussel, barge\"],\"marker\":{\"color\":\"#D55E00\"},\"mode\":\"lines\",\"name\":\"11_zealand_day_island_all\",\"x\":[\"2008-10-17T07:40:48\",\"2009-08-03T00:00:00\",\"2010-05-14T00:00:00\",\"2011-02-22T00:00:00\",\"2012-09-12T00:00:00\",\"2013-06-23T00:00:00\",\"2015-10-23T00:00:00\"],\"y\":[1,1,3,5,1,1,1],\"type\":\"scatter\"},{\"hoverinfo\":\"text\",\"hovertext\":[\"\\u003cb\\u003eTopic 12\\u003c\\u002fb\\u003e\\u003cbr\\u003eWords: wool, hunters, possums, fibre, fur\",\"\\u003cb\\u003eTopic 12\\u003c\\u002fb\\u003e\\u003cbr\\u003eWords: country, farmers, sheep, farm, bit\",\"\\u003cb\\u003eTopic 12\\u003c\\u002fb\\u003e\\u003cbr\\u003eWords: sheep, have, mackenzie, has, know\",\"\\u003cb\\u003eTopic 12\\u003c\\u002fb\\u003e\\u003cbr\\u003eWords: kiwi, kiwis, farm, goldfish, ponds\",\"\\u003cb\\u003eTopic 12\\u003c\\u002fb\\u003e\\u003cbr\\u003eWords: zealand, farm, aohanga, land, home\",\"\\u003cb\\u003eTopic 12\\u003c\\u002fb\\u003e\\u003cbr\\u003eWords: farm, zealand, sheep, river, animals\",\"\\u003cb\\u003eTopic 12\\u003c\\u002fb\\u003e\\u003cbr\\u003eWords: wapiti, fiordland, deer, country, hunters\",\"\\u003cb\\u003eTopic 12\\u003c\\u002fb\\u003e\\u003cbr\\u003eWords: mahinga, makarini, waterways, farmers, river\"],\"marker\":{\"color\":\"#0072B2\"},\"mode\":\"lines\",\"name\":\"12_wapiti_farm_country_bit\",\"x\":[\"2008-10-17T07:40:48\",\"2010-05-14T00:00:00\",\"2011-02-22T00:00:00\",\"2014-04-03T00:00:00\",\"2018-12-02T00:00:00\",\"2020-06-22T00:00:00\",\"2022-10-22T00:00:00\",\"2023-08-02T00:00:00\"],\"y\":[1,1,1,2,1,3,1,1],\"type\":\"scatter\"},{\"hoverinfo\":\"text\",\"hovertext\":[\"\\u003cb\\u003eTopic 13\\u003c\\u002fb\\u003e\\u003cbr\\u003eWords: bloodstock, farm, horses, horse, tiako\",\"\\u003cb\\u003eTopic 13\\u003c\\u002fb\\u003e\\u003cbr\\u003eWords: sheep, lambs, farm, wool, meat\",\"\\u003cb\\u003eTopic 13\\u003c\\u002fb\\u003e\\u003cbr\\u003eWords: lambs, lamb, farm, work, have\",\"\\u003cb\\u003eTopic 13\\u003c\\u002fb\\u003e\\u003cbr\\u003eWords: lambing, lamb, farm, lambs, animals\",\"\\u003cb\\u003eTopic 13\\u003c\\u002fb\\u003e\\u003cbr\\u003eWords: lamb, lambs, farm, farmers, spring\",\"\\u003cb\\u003eTopic 13\\u003c\\u002fb\\u003e\\u003cbr\\u003eWords: sheep, lambs, farm, milking, milk\",\"\\u003cb\\u003eTopic 13\\u003c\\u002fb\\u003e\\u003cbr\\u003eWords: sheep, farm, bit, embryos, they\",\"\\u003cb\\u003eTopic 13\\u003c\\u002fb\\u003e\\u003cbr\\u003eWords: lambs, sheep, farmers, farm, zealand\",\"\\u003cb\\u003eTopic 13\\u003c\\u002fb\\u003e\\u003cbr\\u003eWords: sheep, lamb, lambs, farm, wool\"],\"marker\":{\"color\":\"#CC79A7\"},\"mode\":\"lines\",\"name\":\"13_lambs_lamb_sheep_farm\",\"x\":[\"2012-09-12T00:00:00\",\"2014-04-03T00:00:00\",\"2016-08-02T00:00:00\",\"2017-05-13T00:00:00\",\"2018-02-21T00:00:00\",\"2019-09-12T00:00:00\",\"2020-06-22T00:00:00\",\"2022-10-22T00:00:00\",\"2023-08-02T00:00:00\"],\"y\":[1,1,2,1,1,1,1,1,1],\"type\":\"scatter\"},{\"hoverinfo\":\"text\",\"hovertext\":[\"\\u003cb\\u003eTopic 14\\u003c\\u002fb\\u003e\\u003cbr\\u003eWords: goats, goat, sheep, hunters, animals\",\"\\u003cb\\u003eTopic 14\\u003c\\u002fb\\u003e\\u003cbr\\u003eWords: sheep, goats, goat, farm, have\",\"\\u003cb\\u003eTopic 14\\u003c\\u002fb\\u003e\\u003cbr\\u003eWords: goats, cows, goat, milking, milk\",\"\\u003cb\\u003eTopic 14\\u003c\\u002fb\\u003e\\u003cbr\\u003eWords: goats, sheep, goat, fibre, farm\",\"\\u003cb\\u003eTopic 14\\u003c\\u002fb\\u003e\\u003cbr\\u003eWords: sheep, goats, lambs, farm, milking\",\"\\u003cb\\u003eTopic 14\\u003c\\u002fb\\u003e\\u003cbr\\u003eWords: goats, sheep, farm, goat, animals\",\"\\u003cb\\u003eTopic 14\\u003c\\u002fb\\u003e\\u003cbr\\u003eWords: goats, goat, sheep, farm, milking\",\"\\u003cb\\u003eTopic 14\\u003c\\u002fb\\u003e\\u003cbr\\u003eWords: goats, goat, farm, milking, milk\"],\"marker\":{\"color\":\"#E69F00\"},\"mode\":\"lines\",\"name\":\"14_goats_goat_sheep_farm\",\"x\":[\"2013-06-23T00:00:00\",\"2015-01-12T00:00:00\",\"2015-10-23T00:00:00\",\"2017-05-13T00:00:00\",\"2018-02-21T00:00:00\",\"2018-12-02T00:00:00\",\"2021-04-02T00:00:00\",\"2023-08-02T00:00:00\"],\"y\":[1,1,1,1,1,3,1,1],\"type\":\"scatter\"},{\"hoverinfo\":\"text\",\"hovertext\":[\"\\u003cb\\u003eTopic 15\\u003c\\u002fb\\u003e\\u003cbr\\u003eWords: muster, mustering, place, richard, smith\",\"\\u003cb\\u003eTopic 15\\u003c\\u002fb\\u003e\\u003cbr\\u003eWords: farm, trails, country, ride, home\",\"\\u003cb\\u003eTopic 15\\u003c\\u002fb\\u003e\\u003cbr\\u003eWords: periam, muster, cattle, place, bendigo\",\"\\u003cb\\u003eTopic 15\\u003c\\u002fb\\u003e\\u003cbr\\u003eWords: ewans, ewan, farm, hotel, gold\",\"\\u003cb\\u003eTopic 15\\u003c\\u002fb\\u003e\\u003cbr\\u003eWords: country, farm, terry, year, over\",\"\\u003cb\\u003eTopic 15\\u003c\\u002fb\\u003e\\u003cbr\\u003eWords: cattle, rivers, cows, river, country\",\"\\u003cb\\u003eTopic 15\\u003c\\u002fb\\u003e\\u003cbr\\u003eWords: pasture, farm, place, hamish, bit\"],\"marker\":{\"color\":\"#56B4E9\"},\"mode\":\"lines\",\"name\":\"15_farm_muster_cattle_country\",\"x\":[\"2008-10-17T07:40:48\",\"2011-12-03T00:00:00\",\"2013-06-23T00:00:00\",\"2014-04-03T00:00:00\",\"2016-08-02T00:00:00\",\"2017-05-13T00:00:00\",\"2022-01-11T00:00:00\"],\"y\":[1,1,2,2,1,1,1],\"type\":\"scatter\"},{\"hoverinfo\":\"text\",\"hovertext\":[\"\\u003cb\\u003eTopic 16\\u003c\\u002fb\\u003e\\u003cbr\\u003eWords: farm, eggs, organic, egg, chickens\",\"\\u003cb\\u003eTopic 16\\u003c\\u002fb\\u003e\\u003cbr\\u003eWords: farm, organic, chickens, maize, hens\",\"\\u003cb\\u003eTopic 16\\u003c\\u002fb\\u003e\\u003cbr\\u003eWords: chickens, chicken, organic, farm, birds\",\"\\u003cb\\u003eTopic 16\\u003c\\u002fb\\u003e\\u003cbr\\u003eWords: farm, produce, garden, eggs, soil\",\"\\u003cb\\u003eTopic 16\\u003c\\u002fb\\u003e\\u003cbr\\u003eWords: eggs, egg, farm, nesting, chickens\",\"\\u003cb\\u003eTopic 16\\u003c\\u002fb\\u003e\\u003cbr\\u003eWords: eggs, farm, egg, chickens, hens\"],\"marker\":{\"color\":\"#009E73\"},\"mode\":\"lines\",\"name\":\"16_farm_chickens_eggs_organic\",\"x\":[\"2008-10-17T07:40:48\",\"2012-09-12T00:00:00\",\"2018-02-21T00:00:00\",\"2019-09-12T00:00:00\",\"2020-06-22T00:00:00\",\"2022-01-11T00:00:00\"],\"y\":[2,1,1,2,1,1],\"type\":\"scatter\"},{\"hoverinfo\":\"text\",\"hovertext\":[\"\\u003cb\\u003eTopic 17\\u003c\\u002fb\\u003e\\u003cbr\\u003eWords: farms, farmers, farm, farming, zealand\",\"\\u003cb\\u003eTopic 17\\u003c\\u002fb\\u003e\\u003cbr\\u003eWords: farm, sheep, canterbury, zealand, climate\",\"\\u003cb\\u003eTopic 17\\u003c\\u002fb\\u003e\\u003cbr\\u003eWords: sheep, farm, fishing, whaling, helicopter\",\"\\u003cb\\u003eTopic 17\\u003c\\u002fb\\u003e\\u003cbr\\u003eWords: sheep, farm, zealand, country, keegan\"],\"marker\":{\"color\":\"#F0E442\"},\"mode\":\"lines\",\"name\":\"17_sheep_farm_zealand_canterbury\",\"x\":[\"2008-10-17T07:40:48\",\"2013-06-23T00:00:00\",\"2014-04-03T00:00:00\",\"2015-01-12T00:00:00\"],\"y\":[2,2,2,1],\"type\":\"scatter\"},{\"hoverinfo\":\"text\",\"hovertext\":[\"\\u003cb\\u003eTopic 18\\u003c\\u002fb\\u003e\\u003cbr\\u003eWords: scobie, wool, sheep, yarn, fabric\",\"\\u003cb\\u003eTopic 18\\u003c\\u002fb\\u003e\\u003cbr\\u003eWords: sheep, wool, lambs, farm, zealand\",\"\\u003cb\\u003eTopic 18\\u003c\\u002fb\\u003e\\u003cbr\\u003eWords: wool, sheep, farmers, farm, bit\",\"\\u003cb\\u003eTopic 18\\u003c\\u002fb\\u003e\\u003cbr\\u003eWords: sheep, wool, farm, hops, bit\",\"\\u003cb\\u003eTopic 18\\u003c\\u002fb\\u003e\\u003cbr\\u003eWords: merino, sheep, farm, zealand, wool\"],\"marker\":{\"color\":\"#D55E00\"},\"mode\":\"lines\",\"name\":\"18_sheep_wool_farm_merino\",\"x\":[\"2014-04-03T00:00:00\",\"2018-02-21T00:00:00\",\"2018-12-02T00:00:00\",\"2022-10-22T00:00:00\",\"2023-08-02T00:00:00\"],\"y\":[1,1,1,3,1],\"type\":\"scatter\"},{\"hoverinfo\":\"text\",\"hovertext\":[\"\\u003cb\\u003eTopic 19\\u003c\\u002fb\\u003e\\u003cbr\\u003eWords: music, of, all, it, catwalk\",\"\\u003cb\\u003eTopic 19\\u003c\\u002fb\\u003e\\u003cbr\\u003eWords: music, station, land, valley, farm\",\"\\u003cb\\u003eTopic 19\\u003c\\u002fb\\u003e\\u003cbr\\u003eWords: music, zealand, kiwi, coast, land\"],\"marker\":{\"color\":\"#0072B2\"},\"mode\":\"lines\",\"name\":\"19_music_zealand_valley_land\",\"x\":[\"2008-10-17T07:40:48\",\"2013-06-23T00:00:00\",\"2014-04-03T00:00:00\"],\"y\":[1,3,2],\"type\":\"scatter\"}],                        {\"template\":{\"data\":{\"barpolar\":[{\"marker\":{\"line\":{\"color\":\"white\",\"width\":0.5},\"pattern\":{\"fillmode\":\"overlay\",\"size\":10,\"solidity\":0.2}},\"type\":\"barpolar\"}],\"bar\":[{\"error_x\":{\"color\":\"rgb(36,36,36)\"},\"error_y\":{\"color\":\"rgb(36,36,36)\"},\"marker\":{\"line\":{\"color\":\"white\",\"width\":0.5},\"pattern\":{\"fillmode\":\"overlay\",\"size\":10,\"solidity\":0.2}},\"type\":\"bar\"}],\"carpet\":[{\"aaxis\":{\"endlinecolor\":\"rgb(36,36,36)\",\"gridcolor\":\"white\",\"linecolor\":\"white\",\"minorgridcolor\":\"white\",\"startlinecolor\":\"rgb(36,36,36)\"},\"baxis\":{\"endlinecolor\":\"rgb(36,36,36)\",\"gridcolor\":\"white\",\"linecolor\":\"white\",\"minorgridcolor\":\"white\",\"startlinecolor\":\"rgb(36,36,36)\"},\"type\":\"carpet\"}],\"choropleth\":[{\"colorbar\":{\"outlinewidth\":1,\"tickcolor\":\"rgb(36,36,36)\",\"ticks\":\"outside\"},\"type\":\"choropleth\"}],\"contourcarpet\":[{\"colorbar\":{\"outlinewidth\":1,\"tickcolor\":\"rgb(36,36,36)\",\"ticks\":\"outside\"},\"type\":\"contourcarpet\"}],\"contour\":[{\"colorbar\":{\"outlinewidth\":1,\"tickcolor\":\"rgb(36,36,36)\",\"ticks\":\"outside\"},\"colorscale\":[[0.0,\"#440154\"],[0.1111111111111111,\"#482878\"],[0.2222222222222222,\"#3e4989\"],[0.3333333333333333,\"#31688e\"],[0.4444444444444444,\"#26828e\"],[0.5555555555555556,\"#1f9e89\"],[0.6666666666666666,\"#35b779\"],[0.7777777777777778,\"#6ece58\"],[0.8888888888888888,\"#b5de2b\"],[1.0,\"#fde725\"]],\"type\":\"contour\"}],\"heatmapgl\":[{\"colorbar\":{\"outlinewidth\":1,\"tickcolor\":\"rgb(36,36,36)\",\"ticks\":\"outside\"},\"colorscale\":[[0.0,\"#440154\"],[0.1111111111111111,\"#482878\"],[0.2222222222222222,\"#3e4989\"],[0.3333333333333333,\"#31688e\"],[0.4444444444444444,\"#26828e\"],[0.5555555555555556,\"#1f9e89\"],[0.6666666666666666,\"#35b779\"],[0.7777777777777778,\"#6ece58\"],[0.8888888888888888,\"#b5de2b\"],[1.0,\"#fde725\"]],\"type\":\"heatmapgl\"}],\"heatmap\":[{\"colorbar\":{\"outlinewidth\":1,\"tickcolor\":\"rgb(36,36,36)\",\"ticks\":\"outside\"},\"colorscale\":[[0.0,\"#440154\"],[0.1111111111111111,\"#482878\"],[0.2222222222222222,\"#3e4989\"],[0.3333333333333333,\"#31688e\"],[0.4444444444444444,\"#26828e\"],[0.5555555555555556,\"#1f9e89\"],[0.6666666666666666,\"#35b779\"],[0.7777777777777778,\"#6ece58\"],[0.8888888888888888,\"#b5de2b\"],[1.0,\"#fde725\"]],\"type\":\"heatmap\"}],\"histogram2dcontour\":[{\"colorbar\":{\"outlinewidth\":1,\"tickcolor\":\"rgb(36,36,36)\",\"ticks\":\"outside\"},\"colorscale\":[[0.0,\"#440154\"],[0.1111111111111111,\"#482878\"],[0.2222222222222222,\"#3e4989\"],[0.3333333333333333,\"#31688e\"],[0.4444444444444444,\"#26828e\"],[0.5555555555555556,\"#1f9e89\"],[0.6666666666666666,\"#35b779\"],[0.7777777777777778,\"#6ece58\"],[0.8888888888888888,\"#b5de2b\"],[1.0,\"#fde725\"]],\"type\":\"histogram2dcontour\"}],\"histogram2d\":[{\"colorbar\":{\"outlinewidth\":1,\"tickcolor\":\"rgb(36,36,36)\",\"ticks\":\"outside\"},\"colorscale\":[[0.0,\"#440154\"],[0.1111111111111111,\"#482878\"],[0.2222222222222222,\"#3e4989\"],[0.3333333333333333,\"#31688e\"],[0.4444444444444444,\"#26828e\"],[0.5555555555555556,\"#1f9e89\"],[0.6666666666666666,\"#35b779\"],[0.7777777777777778,\"#6ece58\"],[0.8888888888888888,\"#b5de2b\"],[1.0,\"#fde725\"]],\"type\":\"histogram2d\"}],\"histogram\":[{\"marker\":{\"line\":{\"color\":\"white\",\"width\":0.6}},\"type\":\"histogram\"}],\"mesh3d\":[{\"colorbar\":{\"outlinewidth\":1,\"tickcolor\":\"rgb(36,36,36)\",\"ticks\":\"outside\"},\"type\":\"mesh3d\"}],\"parcoords\":[{\"line\":{\"colorbar\":{\"outlinewidth\":1,\"tickcolor\":\"rgb(36,36,36)\",\"ticks\":\"outside\"}},\"type\":\"parcoords\"}],\"pie\":[{\"automargin\":true,\"type\":\"pie\"}],\"scatter3d\":[{\"line\":{\"colorbar\":{\"outlinewidth\":1,\"tickcolor\":\"rgb(36,36,36)\",\"ticks\":\"outside\"}},\"marker\":{\"colorbar\":{\"outlinewidth\":1,\"tickcolor\":\"rgb(36,36,36)\",\"ticks\":\"outside\"}},\"type\":\"scatter3d\"}],\"scattercarpet\":[{\"marker\":{\"colorbar\":{\"outlinewidth\":1,\"tickcolor\":\"rgb(36,36,36)\",\"ticks\":\"outside\"}},\"type\":\"scattercarpet\"}],\"scattergeo\":[{\"marker\":{\"colorbar\":{\"outlinewidth\":1,\"tickcolor\":\"rgb(36,36,36)\",\"ticks\":\"outside\"}},\"type\":\"scattergeo\"}],\"scattergl\":[{\"marker\":{\"colorbar\":{\"outlinewidth\":1,\"tickcolor\":\"rgb(36,36,36)\",\"ticks\":\"outside\"}},\"type\":\"scattergl\"}],\"scattermapbox\":[{\"marker\":{\"colorbar\":{\"outlinewidth\":1,\"tickcolor\":\"rgb(36,36,36)\",\"ticks\":\"outside\"}},\"type\":\"scattermapbox\"}],\"scatterpolargl\":[{\"marker\":{\"colorbar\":{\"outlinewidth\":1,\"tickcolor\":\"rgb(36,36,36)\",\"ticks\":\"outside\"}},\"type\":\"scatterpolargl\"}],\"scatterpolar\":[{\"marker\":{\"colorbar\":{\"outlinewidth\":1,\"tickcolor\":\"rgb(36,36,36)\",\"ticks\":\"outside\"}},\"type\":\"scatterpolar\"}],\"scatter\":[{\"fillpattern\":{\"fillmode\":\"overlay\",\"size\":10,\"solidity\":0.2},\"type\":\"scatter\"}],\"scatterternary\":[{\"marker\":{\"colorbar\":{\"outlinewidth\":1,\"tickcolor\":\"rgb(36,36,36)\",\"ticks\":\"outside\"}},\"type\":\"scatterternary\"}],\"surface\":[{\"colorbar\":{\"outlinewidth\":1,\"tickcolor\":\"rgb(36,36,36)\",\"ticks\":\"outside\"},\"colorscale\":[[0.0,\"#440154\"],[0.1111111111111111,\"#482878\"],[0.2222222222222222,\"#3e4989\"],[0.3333333333333333,\"#31688e\"],[0.4444444444444444,\"#26828e\"],[0.5555555555555556,\"#1f9e89\"],[0.6666666666666666,\"#35b779\"],[0.7777777777777778,\"#6ece58\"],[0.8888888888888888,\"#b5de2b\"],[1.0,\"#fde725\"]],\"type\":\"surface\"}],\"table\":[{\"cells\":{\"fill\":{\"color\":\"rgb(237,237,237)\"},\"line\":{\"color\":\"white\"}},\"header\":{\"fill\":{\"color\":\"rgb(217,217,217)\"},\"line\":{\"color\":\"white\"}},\"type\":\"table\"}]},\"layout\":{\"annotationdefaults\":{\"arrowhead\":0,\"arrowwidth\":1},\"autotypenumbers\":\"strict\",\"coloraxis\":{\"colorbar\":{\"outlinewidth\":1,\"tickcolor\":\"rgb(36,36,36)\",\"ticks\":\"outside\"}},\"colorscale\":{\"diverging\":[[0.0,\"rgb(103,0,31)\"],[0.1,\"rgb(178,24,43)\"],[0.2,\"rgb(214,96,77)\"],[0.3,\"rgb(244,165,130)\"],[0.4,\"rgb(253,219,199)\"],[0.5,\"rgb(247,247,247)\"],[0.6,\"rgb(209,229,240)\"],[0.7,\"rgb(146,197,222)\"],[0.8,\"rgb(67,147,195)\"],[0.9,\"rgb(33,102,172)\"],[1.0,\"rgb(5,48,97)\"]],\"sequential\":[[0.0,\"#440154\"],[0.1111111111111111,\"#482878\"],[0.2222222222222222,\"#3e4989\"],[0.3333333333333333,\"#31688e\"],[0.4444444444444444,\"#26828e\"],[0.5555555555555556,\"#1f9e89\"],[0.6666666666666666,\"#35b779\"],[0.7777777777777778,\"#6ece58\"],[0.8888888888888888,\"#b5de2b\"],[1.0,\"#fde725\"]],\"sequentialminus\":[[0.0,\"#440154\"],[0.1111111111111111,\"#482878\"],[0.2222222222222222,\"#3e4989\"],[0.3333333333333333,\"#31688e\"],[0.4444444444444444,\"#26828e\"],[0.5555555555555556,\"#1f9e89\"],[0.6666666666666666,\"#35b779\"],[0.7777777777777778,\"#6ece58\"],[0.8888888888888888,\"#b5de2b\"],[1.0,\"#fde725\"]]},\"colorway\":[\"#1F77B4\",\"#FF7F0E\",\"#2CA02C\",\"#D62728\",\"#9467BD\",\"#8C564B\",\"#E377C2\",\"#7F7F7F\",\"#BCBD22\",\"#17BECF\"],\"font\":{\"color\":\"rgb(36,36,36)\"},\"geo\":{\"bgcolor\":\"white\",\"lakecolor\":\"white\",\"landcolor\":\"white\",\"showlakes\":true,\"showland\":true,\"subunitcolor\":\"white\"},\"hoverlabel\":{\"align\":\"left\"},\"hovermode\":\"closest\",\"mapbox\":{\"style\":\"light\"},\"paper_bgcolor\":\"white\",\"plot_bgcolor\":\"white\",\"polar\":{\"angularaxis\":{\"gridcolor\":\"rgb(232,232,232)\",\"linecolor\":\"rgb(36,36,36)\",\"showgrid\":false,\"showline\":true,\"ticks\":\"outside\"},\"bgcolor\":\"white\",\"radialaxis\":{\"gridcolor\":\"rgb(232,232,232)\",\"linecolor\":\"rgb(36,36,36)\",\"showgrid\":false,\"showline\":true,\"ticks\":\"outside\"}},\"scene\":{\"xaxis\":{\"backgroundcolor\":\"white\",\"gridcolor\":\"rgb(232,232,232)\",\"gridwidth\":2,\"linecolor\":\"rgb(36,36,36)\",\"showbackground\":true,\"showgrid\":false,\"showline\":true,\"ticks\":\"outside\",\"zeroline\":false,\"zerolinecolor\":\"rgb(36,36,36)\"},\"yaxis\":{\"backgroundcolor\":\"white\",\"gridcolor\":\"rgb(232,232,232)\",\"gridwidth\":2,\"linecolor\":\"rgb(36,36,36)\",\"showbackground\":true,\"showgrid\":false,\"showline\":true,\"ticks\":\"outside\",\"zeroline\":false,\"zerolinecolor\":\"rgb(36,36,36)\"},\"zaxis\":{\"backgroundcolor\":\"white\",\"gridcolor\":\"rgb(232,232,232)\",\"gridwidth\":2,\"linecolor\":\"rgb(36,36,36)\",\"showbackground\":true,\"showgrid\":false,\"showline\":true,\"ticks\":\"outside\",\"zeroline\":false,\"zerolinecolor\":\"rgb(36,36,36)\"}},\"shapedefaults\":{\"fillcolor\":\"black\",\"line\":{\"width\":0},\"opacity\":0.3},\"ternary\":{\"aaxis\":{\"gridcolor\":\"rgb(232,232,232)\",\"linecolor\":\"rgb(36,36,36)\",\"showgrid\":false,\"showline\":true,\"ticks\":\"outside\"},\"baxis\":{\"gridcolor\":\"rgb(232,232,232)\",\"linecolor\":\"rgb(36,36,36)\",\"showgrid\":false,\"showline\":true,\"ticks\":\"outside\"},\"bgcolor\":\"white\",\"caxis\":{\"gridcolor\":\"rgb(232,232,232)\",\"linecolor\":\"rgb(36,36,36)\",\"showgrid\":false,\"showline\":true,\"ticks\":\"outside\"}},\"title\":{\"x\":0.05},\"xaxis\":{\"automargin\":true,\"gridcolor\":\"rgb(232,232,232)\",\"linecolor\":\"rgb(36,36,36)\",\"showgrid\":false,\"showline\":true,\"ticks\":\"outside\",\"title\":{\"standoff\":15},\"zeroline\":false,\"zerolinecolor\":\"rgb(36,36,36)\"},\"yaxis\":{\"automargin\":true,\"gridcolor\":\"rgb(232,232,232)\",\"linecolor\":\"rgb(36,36,36)\",\"showgrid\":false,\"showline\":true,\"ticks\":\"outside\",\"title\":{\"standoff\":15},\"zeroline\":false,\"zerolinecolor\":\"rgb(36,36,36)\"}}},\"xaxis\":{\"showgrid\":true},\"yaxis\":{\"showgrid\":true,\"title\":{\"text\":\"Frequency\"}},\"title\":{\"font\":{\"size\":22,\"color\":\"Black\"},\"text\":\"\\u003cb\\u003eTopics over Time\\u003c\\u002fb\\u003e\",\"y\":0.95,\"x\":0.4,\"xanchor\":\"center\",\"yanchor\":\"top\"},\"hoverlabel\":{\"font\":{\"size\":16,\"family\":\"Rockwell\"},\"bgcolor\":\"white\"},\"width\":1250,\"height\":450,\"legend\":{\"title\":{\"text\":\"\\u003cb\\u003eGlobal Topic Representation\"}}},                        {\"responsive\": true}                    ).then(function(){\n",
       "                            \n",
       "var gd = document.getElementById('675aa382-f626-4b19-b19c-19aaff56a290');\n",
       "var x = new MutationObserver(function (mutations, observer) {{\n",
       "        var display = window.getComputedStyle(gd).display;\n",
       "        if (!display || display === 'none') {{\n",
       "            console.log([gd, 'removed!']);\n",
       "            Plotly.purge(gd);\n",
       "            observer.disconnect();\n",
       "        }}\n",
       "}});\n",
       "\n",
       "// Listen for the removal of the full notebook cells\n",
       "var notebookContainer = gd.closest('#notebook-container');\n",
       "if (notebookContainer) {{\n",
       "    x.observe(notebookContainer, {childList: true});\n",
       "}}\n",
       "\n",
       "// Listen for the clearing of the current output cell\n",
       "var outputEl = gd.closest('.output');\n",
       "if (outputEl) {{\n",
       "    x.observe(outputEl, {childList: true});\n",
       "}}\n",
       "\n",
       "                        })                };                });            </script>        </div>"
      ]
     },
     "metadata": {},
     "output_type": "display_data"
    }
   ],
   "source": [
    "topic_model.visualize_topics_over_time(topics_over_time, top_n_topics=20)"
   ]
  }
 ],
 "metadata": {
  "kernelspec": {
   "display_name": "Python 3",
   "language": "python",
   "name": "python3"
  },
  "language_info": {
   "codemirror_mode": {
    "name": "ipython",
    "version": 3
   },
   "file_extension": ".py",
   "mimetype": "text/x-python",
   "name": "python",
   "nbconvert_exporter": "python",
   "pygments_lexer": "ipython3",
   "version": "3.10.12"
  }
 },
 "nbformat": 4,
 "nbformat_minor": 2
}
